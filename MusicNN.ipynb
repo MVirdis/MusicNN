{
 "cells": [
  {
   "cell_type": "markdown",
   "metadata": {
    "id": "zEUjM0Mlk_US"
   },
   "source": [
    "# Symbolic Music Generation #"
   ]
  },
  {
   "cell_type": "markdown",
   "metadata": {
    "id": "CUPyrBITk_UY"
   },
   "source": [
    "Se si sta eseguendo su **Google Colab** mettere a *True* la variabile *colab*.\n",
    "\n",
    "Se si sta eseguendo offline e si vuole utilizzare la GPU per il training mettere a *True* la variabile *use_gpu*.\n",
    "(Se non è necessario fare training si può anche mettere a *False*)\n",
    "\n",
    "**ATTENZIONE** per usare la gpu offline sono state usate le seguenti dipendenze:\n",
    "* python v3.7\n",
    "* tensorflow v2.1.0\n",
    "* CUDA Toolkit 10.1\n",
    "* cuDNN v7.6\n",
    "\n",
    "Insieme a GPU: *NVDIA GeForce RTX 2060 6GB*\n",
    "\n",
    "Per utilizzare le funzionalità di **music21** offline bisogna prima installarlo tramite anaconda o il modulo *pip* di python.\n",
    "Inoltre per visualizzare gli spartiti è necessario installare un visualizzatore di spartiti come **MuseScore**, poi riportare i percorsi corretti nella cella di setup di **music21**"
   ]
  },
  {
   "cell_type": "code",
   "execution_count": 1,
   "metadata": {
    "id": "U0tXc9UGsSXN"
   },
   "outputs": [],
   "source": [
    "colab = False\n",
    "use_gpu = True"
   ]
  },
  {
   "cell_type": "code",
   "execution_count": 2,
   "metadata": {
    "id": "pjcVrCF2MEFs"
   },
   "outputs": [],
   "source": [
    "if colab:\n",
    "    from google.colab import drive\n",
    "    drive.mount('/content/drive', force_remount=True) # NON MODIFICARE"
   ]
  },
  {
   "cell_type": "markdown",
   "metadata": {
    "id": "YBvAAi7jMHiD"
   },
   "source": [
    "**ESEGUIRE LA SEGUENTE CELLA SOLO SU COLAB**:\n",
    "Codice per installare music21 su Google colab e farlo funzionare"
   ]
  },
  {
   "cell_type": "code",
   "execution_count": null,
   "metadata": {
    "id": "Bj8YDQpiMFH2"
   },
   "outputs": [],
   "source": [
    "!pip install --upgrade music21\n",
    "!add-apt-repository ppa:mscore-ubuntu/mscore-stable -y\n",
    "!apt-get update\n",
    "!apt-get install musescore\n",
    "!apt-get install xvfb\n",
    "!sh -e /etc/init.d/x11-common start\n",
    "!start-stop-daemon --start --pidfile /var/run/xvfb.pid --make-pidfile --background --exec /usr/bin/Xvfb -- :99 -screen 0 1024x768x24 -ac +extension GLX +render -noreset"
   ]
  },
  {
   "cell_type": "markdown",
   "metadata": {
    "id": "3fEERWgMk_Ub"
   },
   "source": [
    "L'esecuzione della seguente cella è opzionale serve a far funzionare la parte di visualizzazione e ascolto dei brani"
   ]
  },
  {
   "cell_type": "code",
   "execution_count": 3,
   "metadata": {
    "id": "VNKIXFMbNbXi"
   },
   "outputs": [],
   "source": [
    "import music21 as m21\n",
    "us = m21.environment.UserSettings()\n",
    "if colab:\n",
    "    us['musescoreDirectPNGPath'] = '/usr/bin/mscore'    # NON MODIFICARE\n",
    "    us['musicxmlPath'] = '/usr/bin/mscore'              # NON MODIFICARE\n",
    "    us['directoryScratch'] = '/tmp'                     # NON MODIFICARE\n",
    "else:\n",
    "    us['musescoreDirectPNGPath'] = 'C:/Program Files/MuseScore 3/bin/MuseScore3.exe'  # MODIFICARE con i propri dati\n",
    "    us['directoryScratch'] = 'C:/Users/Mario/AppData/Local/Temp'                      # MODIFICARE con i propri dati\n",
    "    us['musicxmlPath'] = 'C:/Program Files/MuseScore 3/bin/MuseScore3.exe'            # MODIFICARE con i propri dati"
   ]
  },
  {
   "cell_type": "code",
   "execution_count": 4,
   "metadata": {
    "executionInfo": {
     "elapsed": 3737,
     "status": "ok",
     "timestamp": 1613256509098,
     "user": {
      "displayName": "Mario Virdis",
      "photoUrl": "https://lh4.googleusercontent.com/-5kQJdEVMALY/AAAAAAAAAAI/AAAAAAAACrE/IDA7I05bG0M/s64/photo.jpg",
      "userId": "10751287545970770732"
     },
     "user_tz": -60
    },
    "id": "HoWP72AvLSRx"
   },
   "outputs": [],
   "source": [
    "import tensorflow as tf\n",
    "from sklearn.decomposition import PCA\n",
    "import numpy as np\n",
    "import matplotlib.pyplot as plt\n",
    "from tensorflow.keras.preprocessing.text import Tokenizer\n",
    "from tensorflow.keras.preprocessing.sequence import pad_sequences"
   ]
  },
  {
   "cell_type": "code",
   "execution_count": 5,
   "metadata": {
    "executionInfo": {
     "elapsed": 1080,
     "status": "ok",
     "timestamp": 1613256512431,
     "user": {
      "displayName": "Mario Virdis",
      "photoUrl": "https://lh4.googleusercontent.com/-5kQJdEVMALY/AAAAAAAAAAI/AAAAAAAACrE/IDA7I05bG0M/s64/photo.jpg",
      "userId": "10751287545970770732"
     },
     "user_tz": -60
    },
    "id": "jnR1Zfi0LSRx"
   },
   "outputs": [],
   "source": [
    "from os import listdir, putenv\n",
    "from os.path import isfile, join\n",
    "import os\n",
    "import time\n",
    "import pickle\n",
    "os.environ['TF_CPP_MIN_LOG_LEVEL'] = '2'"
   ]
  },
  {
   "cell_type": "code",
   "execution_count": 6,
   "metadata": {
    "id": "qZ42_KCxj66N"
   },
   "outputs": [],
   "source": [
    "if colab:\n",
    "    # MODIFICARE con il percorso su Google Drive dove si è messa la cartella del progetto\n",
    "    # la parte /content/drive/MyDrive è costante, la parte successiva dipende da dove si è messo il progetto nel proprio drive\n",
    "    base_path = '/content/drive/MyDrive/MusicNN'\n",
    "else:\n",
    "    base_path = ''   # NON MODIFICARE"
   ]
  },
  {
   "cell_type": "code",
   "execution_count": 7,
   "metadata": {
    "id": "1ucLaeelsSXa"
   },
   "outputs": [
    {
     "name": "stdout",
     "output_type": "stream",
     "text": [
      "1 Physical GPUs, 1 Logical GPU\n"
     ]
    }
   ],
   "source": [
    "if not colab and use_gpu:\n",
    "    gpus = tf.config.experimental.list_physical_devices('GPU')\n",
    "    if gpus:\n",
    "        try:\n",
    "            tf.config.experimental.set_visible_devices(gpus[0], 'GPU')\n",
    "            tf.config.experimental.set_memory_growth(gpus[0], True)  # RIGA Fondamentale altrimenti crasha sulle RNN\n",
    "            logical_gpus = tf.config.experimental.list_logical_devices('GPU')\n",
    "            print(len(gpus), \"Physical GPUs,\", len(logical_gpus), \"Logical GPU\")\n",
    "        except RuntimeError as e:\n",
    "            print(e)"
   ]
  },
  {
   "cell_type": "markdown",
   "metadata": {
    "id": "1gt_h6OfLSRx"
   },
   "source": [
    "-------------------------------------------------------------------------------"
   ]
  },
  {
   "cell_type": "markdown",
   "metadata": {
    "id": "N7YO565SjJt5"
   },
   "source": [
    "### Load Data\n",
    "Di seguito è implementata la pipeline per generare il dataset di training, di validation e di test"
   ]
  },
  {
   "cell_type": "code",
   "execution_count": 8,
   "metadata": {
    "id": "ZKjGyXzjp6nz"
   },
   "outputs": [],
   "source": [
    "data_obj = join(base_path, 'BachChorales/jsb-chorales-quarter.pkl')"
   ]
  },
  {
   "cell_type": "code",
   "execution_count": 9,
   "metadata": {
    "id": "wCY-8eHlp6n2"
   },
   "outputs": [],
   "source": [
    "with open(data_obj, 'rb') as f:\n",
    "    data = pickle.load(f,encoding='latin1')"
   ]
  },
  {
   "cell_type": "code",
   "execution_count": 10,
   "metadata": {
    "id": "g6twusMLsSXf"
   },
   "outputs": [
    {
     "data": {
      "text/plain": [
       "229"
      ]
     },
     "execution_count": 10,
     "metadata": {},
     "output_type": "execute_result"
    }
   ],
   "source": [
    "len(data['train'])"
   ]
  },
  {
   "cell_type": "code",
   "execution_count": 11,
   "metadata": {
    "id": "8quWFNoWp6n3"
   },
   "outputs": [
    {
     "name": "stdout",
     "output_type": "stream",
     "text": [
      "training pieces: 229  59 %\n",
      "validation pieces: 76  19 %\n",
      "test pieces: 77  20 %\n"
     ]
    }
   ],
   "source": [
    "train_data = data['train']\n",
    "valid_data = data['valid']\n",
    "test_data = data['test']\n",
    "Ntrain = len(train_data)\n",
    "Nvalid = len(valid_data)\n",
    "Ntest = len(test_data)\n",
    "print('training pieces:', Ntrain, '', Ntrain*100//(Ntrain+Nvalid+Ntest),'%')\n",
    "print('validation pieces:', Nvalid, '', Nvalid*100//(Ntrain+Nvalid+Ntest),'%')\n",
    "print('test pieces:', Ntest, '', Ntest*100//(Ntrain+Nvalid+Ntest),'%')"
   ]
  },
  {
   "cell_type": "code",
   "execution_count": 12,
   "metadata": {
    "id": "C0NTVF95p6n3"
   },
   "outputs": [],
   "source": [
    "def split_voices(data):\n",
    "    flats = [[],[],[],[]] # 4 voci separate\n",
    "    for seq in data: # per ogni sequenza seq\n",
    "        # Inserisco una nuova sequenza vuota per ogni voce\n",
    "        for i in range(len(flats)):\n",
    "            flats[i].append([])\n",
    "\n",
    "        # Per ogni timestep nella sequenza seq\n",
    "        for col in seq:\n",
    "\n",
    "            # Valuto quante voci ci sono in questo timestep\n",
    "            for i in range(len(col)):\n",
    "                if i < 4:\n",
    "                    if col[i] != 0:\n",
    "                        flats[i][-1].append(col[i]) # inserisco questa nota nella corrispondente sequenza\n",
    "                else:\n",
    "                    print('faulty column')\n",
    "\n",
    "        tot = flats[0]+flats[1]+flats[2]+flats[3]\n",
    "        # Pulisco perché può accadere che alcune sequenze siano vuote poiché una certa\n",
    "        # voce non aveva note in un pezzo\n",
    "        clean = []\n",
    "        for seq in tot:\n",
    "            if len(seq) != 0:\n",
    "                clean.append(seq)\n",
    "    return clean"
   ]
  },
  {
   "cell_type": "code",
   "execution_count": 13,
   "metadata": {
    "id": "yIe6PpMUk_Ue"
   },
   "outputs": [],
   "source": [
    "def flatten_voices(data):\n",
    "    flats = []\n",
    "    for seq in data: # per ogni pezzo di Bach\n",
    "        # Inserisco una nuova sequenza vuota\n",
    "        flats.append([])\n",
    "\n",
    "        # Per ogni timestep nella sequenza seq\n",
    "        for col in seq:\n",
    "            for i in range(len(col)):\n",
    "                if i < 4:\n",
    "                    if col[i] != 0:\n",
    "                        flats[-1].append(col[i])\n",
    "                else:\n",
    "                    print('faulty column')\n",
    "\n",
    "    return flats"
   ]
  },
  {
   "cell_type": "code",
   "execution_count": 14,
   "metadata": {
    "id": "Ha2jaotkhXHR"
   },
   "outputs": [
    {
     "name": "stdout",
     "output_type": "stream",
     "text": [
      "N: 916 L_0 129\n"
     ]
    }
   ],
   "source": [
    "tmp1 = split_voices(train_data)\n",
    "#tmp1 = flatten_voices(train_data)\n",
    "print('N:', len(tmp1), 'L_0', len(tmp1[0]))"
   ]
  },
  {
   "cell_type": "markdown",
   "metadata": {
    "id": "1JYK5lkVeKQ5"
   },
   "source": [
    "Una trasformazione per aumentare i dati senza perdere la struttura del pezzo è la trasposizione ddelle note di un numero k di semitoni"
   ]
  },
  {
   "cell_type": "code",
   "execution_count": 15,
   "metadata": {
    "id": "C73eGgPDeKQ5"
   },
   "outputs": [],
   "source": [
    "def semitone_transpose(data, semitones):\n",
    "    \"\"\"\n",
    "    Data è atteso in token MIDI\n",
    "    semitones è una lista di semitoni per cui trasporre\n",
    "    \"\"\"\n",
    "    ndata = []\n",
    "    for seq in data:\n",
    "        for ss in semitones:\n",
    "            ndata.append([])\n",
    "            for token in seq:\n",
    "                assert token+ss <= 128, \"cannot transpose out of range {}\".format(ss)\n",
    "                assert token+ss >= 1, \"cannot transpose out of range {}\".format(ss)\n",
    "                ndata[-1].append(token+ss)\n",
    "    return ndata+data"
   ]
  },
  {
   "cell_type": "code",
   "execution_count": 16,
   "metadata": {
    "id": "jYKokro9eKQ6"
   },
   "outputs": [
    {
     "data": {
      "text/plain": [
       "35724"
      ]
     },
     "execution_count": 16,
     "metadata": {},
     "output_type": "execute_result"
    }
   ],
   "source": [
    "tmp12 = semitone_transpose(tmp1, [i for i in range(1,20)]+[-i for i in range(1,20)])\n",
    "len(tmp12)"
   ]
  },
  {
   "cell_type": "code",
   "execution_count": 17,
   "metadata": {
    "id": "6w1bdOrGkERi"
   },
   "outputs": [],
   "source": [
    "def map_tokens(data, min_token=None, max_token=None):\n",
    "    if min_token is None or max_token is None:\n",
    "        min_token = 10000\n",
    "        max_token = 0\n",
    "        for seq in data:\n",
    "            for token in seq:\n",
    "                if token>max_token:\n",
    "                    max_token = token\n",
    "                if token < min_token:\n",
    "                    min_token = token\n",
    "  \n",
    "    new_data = []\n",
    "    for i in range(len(data)):\n",
    "        new_data.append([])\n",
    "        for j in range(len(data[i])):\n",
    "            if data[i][j] < min_token or data[i][j] > max_token:\n",
    "                continue\n",
    "            new_data[i].append(data[i][j]-min_token+1) # 0 is a padding value\n",
    "  \n",
    "    return new_data, min_token, max_token"
   ]
  },
  {
   "cell_type": "code",
   "execution_count": 18,
   "metadata": {
    "id": "3r7chpbVk4no"
   },
   "outputs": [
    {
     "name": "stdout",
     "output_type": "stream",
     "text": [
      "N = 35724 min token 24 max token 115 vocab size 92\n"
     ]
    }
   ],
   "source": [
    "tmp2, min_token, max_token = map_tokens(tmp12)\n",
    "vocab_size = max_token-min_token+1\n",
    "print('N =',len(tmp2), 'min token', min_token, 'max token', max_token, 'vocab size', vocab_size)"
   ]
  },
  {
   "cell_type": "markdown",
   "metadata": {
    "id": "HILN-gKtiPWk"
   },
   "source": [
    "Nella terza trasformazione porto tutte le sequenze alla lunghezza massima $L_{max}$ usando un padding post di zeri."
   ]
  },
  {
   "cell_type": "code",
   "execution_count": 19,
   "metadata": {
    "id": "t2YVIQuLiYnU"
   },
   "outputs": [],
   "source": [
    "def make_matrix(flatten):\n",
    "    # Trovo la lunghezza massima\n",
    "    maxlen = 0\n",
    "    for seq in flatten:\n",
    "        if len(seq) > maxlen:\n",
    "            maxlen = len(seq)\n",
    "\n",
    "    # Per ogni sequenza in flatten\n",
    "    for i,seq in enumerate(flatten):\n",
    "        if len(seq) < maxlen: # Se è più corta\n",
    "            for j in range(maxlen-len(seq)): # riempio di zeri a dx\n",
    "                flatten[i].append(0)\n",
    "    return flatten, maxlen"
   ]
  },
  {
   "cell_type": "code",
   "execution_count": 20,
   "metadata": {
    "id": "izvXNVbBi9dc"
   },
   "outputs": [
    {
     "name": "stdout",
     "output_type": "stream",
     "text": [
      "N: 35724 Lmax: 129\n"
     ]
    }
   ],
   "source": [
    "tmp3, Lmax = make_matrix(tmp2)\n",
    "print('N:', len(tmp3), 'Lmax:', len(tmp3[0]))"
   ]
  },
  {
   "cell_type": "markdown",
   "metadata": {
    "id": "0hrq9P7DjS68"
   },
   "source": [
    "Adesso si calcola la nuova dimensione del dataset che si ottiene facendo scorrere su ogni sequenza una finestra lunga $ L $ con stride $ s $:\n",
    "$$ N = N_0\\lfloor (L_{max}-L+1)\\frac{1}{s} \\rfloor $$\n",
    "\n",
    "**Punto di Configurazione del dataset**"
   ]
  },
  {
   "cell_type": "code",
   "execution_count": 21,
   "metadata": {
    "id": "gLYWd3cgkHdc"
   },
   "outputs": [
    {
     "name": "stdout",
     "output_type": "stream",
     "text": [
      "N = 535860\n"
     ]
    }
   ],
   "source": [
    "N0 = len(tmp3)\n",
    "L = 20\n",
    "s = 7\n",
    "print('N =', N0*((Lmax-L)//s))"
   ]
  },
  {
   "cell_type": "code",
   "execution_count": 22,
   "metadata": {
    "id": "He_aKth5koPF"
   },
   "outputs": [],
   "source": [
    "def windowing(data, L, s):\n",
    "    assert L>0 and s>0, \"Argomenti non validi\"\n",
    "    data2 = []\n",
    "    for seq in data:\n",
    "        for i in range(0, len(seq)-L+1, s):\n",
    "            data2.append(seq[i:i+L])\n",
    "    clean = []\n",
    "    for seq in data2:\n",
    "        for el in seq:\n",
    "            if el!=0:\n",
    "                clean.append(seq)\n",
    "                break\n",
    "    return clean"
   ]
  },
  {
   "cell_type": "code",
   "execution_count": 23,
   "metadata": {
    "id": "yzivlaE6mcZZ"
   },
   "outputs": [
    {
     "name": "stdout",
     "output_type": "stream",
     "text": [
      "N = 313755\n"
     ]
    }
   ],
   "source": [
    "tmp4 = windowing(tmp3, L, s)\n",
    "# Può venire minore del previsto perché alcune sequenze sono\n",
    "# tutti 0 e vengono eliminate\n",
    "print('N =', len(tmp4))"
   ]
  },
  {
   "cell_type": "code",
   "execution_count": 24,
   "metadata": {
    "id": "pdu4PxwRcaGa"
   },
   "outputs": [],
   "source": [
    "def info_threshold(data, threshold):\n",
    "    \"\"\"\n",
    "    Rimuove da data le sequenze con una percentuale di token validi\n",
    "    minore di threshold, espresso come numero tra 0 e 1.\n",
    "    \"\"\"\n",
    "    assert threshold > 0 and threshold <= 1, \"Valore di threshold non valido deve essere in (0,1]\"\n",
    "    clean = []\n",
    "    for seq in data:\n",
    "        target = int(threshold*len(seq))\n",
    "        count = 0\n",
    "        for i in range(len(seq)):\n",
    "            if seq[i] != 0:\n",
    "                count += 1\n",
    "        if count >= target:\n",
    "            clean.append(seq)\n",
    "    return clean"
   ]
  },
  {
   "cell_type": "code",
   "execution_count": 25,
   "metadata": {
    "id": "VxLayr36dK73"
   },
   "outputs": [
    {
     "name": "stdout",
     "output_type": "stream",
     "text": [
      "N = 243399\n"
     ]
    }
   ],
   "source": [
    "tmp5 = info_threshold(tmp4, 0.75)\n",
    "print('N =', len(tmp5))"
   ]
  },
  {
   "cell_type": "code",
   "execution_count": 26,
   "metadata": {
    "id": "fpZBK-Clm49u"
   },
   "outputs": [
    {
     "data": {
      "text/plain": [
       "(243399, 20)"
      ]
     },
     "execution_count": 26,
     "metadata": {},
     "output_type": "execute_result"
    }
   ],
   "source": [
    "x = np.array(tmp5)\n",
    "x.shape"
   ]
  },
  {
   "cell_type": "markdown",
   "metadata": {
    "id": "ETpAD7kTsSXs"
   },
   "source": [
    "Ripeto per validation data e test data"
   ]
  },
  {
   "cell_type": "code",
   "execution_count": 27,
   "metadata": {
    "id": "JEHthnRXsSXs"
   },
   "outputs": [
    {
     "name": "stdout",
     "output_type": "stream",
     "text": [
      "validation Lmax: 144\n"
     ]
    },
    {
     "data": {
      "text/plain": [
       "(747, 20)"
      ]
     },
     "execution_count": 27,
     "metadata": {},
     "output_type": "execute_result"
    }
   ],
   "source": [
    "vtmp1 = split_voices(valid_data)\n",
    "vtmp2, _, __ = map_tokens(vtmp1, min_token, max_token)\n",
    "vtmp3, vLmax = make_matrix(vtmp2)\n",
    "print('validation Lmax:', vLmax)\n",
    "vtmp4 = windowing(vtmp3, L, L)\n",
    "vtmp5 = info_threshold(vtmp4, 1)\n",
    "x_valid = np.array(vtmp5)\n",
    "x_valid.shape"
   ]
  },
  {
   "cell_type": "code",
   "execution_count": 28,
   "metadata": {
    "id": "uWOuLxImsSXs"
   },
   "outputs": [
    {
     "name": "stdout",
     "output_type": "stream",
     "text": [
      "test Lmax: 160\n"
     ]
    },
    {
     "data": {
      "text/plain": [
       "(1927, 20)"
      ]
     },
     "execution_count": 28,
     "metadata": {},
     "output_type": "execute_result"
    }
   ],
   "source": [
    "ttmp1 = split_voices(test_data)\n",
    "ttmp2, _, __ = map_tokens(ttmp1, min_token, max_token)\n",
    "ttmp3, tLmax = make_matrix(ttmp2)\n",
    "print('test Lmax:', tLmax)\n",
    "ttmp4 = windowing(ttmp3, L, s)\n",
    "ttmp5 = info_threshold(ttmp4, 1)\n",
    "x_test = np.array(ttmp5)\n",
    "x_test.shape"
   ]
  },
  {
   "cell_type": "markdown",
   "metadata": {
    "id": "Ori896NChtPw"
   },
   "source": [
    "### Creazione Modelli Generativi"
   ]
  },
  {
   "cell_type": "markdown",
   "metadata": {
    "id": "SDwmIqzPsSXt"
   },
   "source": [
    "#### Utilità"
   ]
  },
  {
   "cell_type": "code",
   "execution_count": 29,
   "metadata": {
    "id": "Z3oaFcQTsSXt"
   },
   "outputs": [],
   "source": [
    "def save_obj(obj, filename):\n",
    "    with open(filename, 'wb') as f:\n",
    "        pickle.dump(obj, f, protocol=pickle.HIGHEST_PROTOCOL)\n",
    "\n",
    "def load_obj(filename):\n",
    "    with open(filename,'rb') as f:\n",
    "        obj = pickle.load(f)\n",
    "    return obj\n",
    "\n",
    "def merge_history(history):\n",
    "    nhistory = {}\n",
    "    for session in history:\n",
    "        for k in session:\n",
    "            if k not in nhistory:\n",
    "                nhistory[k] = list(session[k])\n",
    "            else:\n",
    "                nhistory[k] += list(session[k])\n",
    "    return nhistory"
   ]
  },
  {
   "cell_type": "markdown",
   "metadata": {
    "id": "qH6nBS-cmmov"
   },
   "source": [
    "#### GRU AutoEncoder"
   ]
  },
  {
   "cell_type": "markdown",
   "metadata": {
    "id": "H02OMat8oErr"
   },
   "source": [
    "##### Encoder"
   ]
  },
  {
   "cell_type": "code",
   "execution_count": 30,
   "metadata": {
    "id": "qe13SWGyjPEY"
   },
   "outputs": [],
   "source": [
    "class GRUEncoder(tf.keras.layers.Layer):\n",
    "    \"\"\"\n",
    "    Questo encoder scorre una sequenza di token di lunghezza variabile.\n",
    "    Utilizza un embedding come ingresso per ogni token e genera uno stato finale z\n",
    "    che è l'encoding dell'intera sequenza di ingresso, di dimensione latent_dimension.\n",
    "\n",
    "    vocab_size è il numero totale di token validi (0 escluso)\n",
    "    d è la profondità dell'embedding\n",
    "    \"\"\"\n",
    "    def __init__(self, vocab_size, d, latent_dimension, depth, height):\n",
    "        super(GRUEncoder, self).__init__()\n",
    "\n",
    "        assert depth > 0 and height > 0\n",
    "\n",
    "        self.d = d\n",
    "        self.embedding = tf.keras.layers.Embedding(vocab_size+1, d, mask_zero=True)\n",
    "\n",
    "        self.grus = [tf.keras.layers.GRU(height, return_sequences=True) for i in range(depth-1)]\n",
    "        self.grus.append(tf.keras.layers.GRU(height))\n",
    "\n",
    "        self.final = tf.keras.layers.Dense(latent_dimension)\n",
    "        self.latent_dimension = latent_dimension\n",
    "        self.layernorm = tf.keras.layers.LayerNormalization(epsilon=1e-6)\n",
    "  \n",
    "    def build(self, input_shape):\n",
    "        return (input_shape[0], self.latent_dimension)\n",
    "\n",
    "    def call(self, x): # (batch_size, L)\n",
    "        emb = self.embedding(x)       # (batch_size, L, d)\n",
    "        out = self.grus[0](emb)          # (batch_size, L, height)\n",
    "        for gru in self.grus[1:]:\n",
    "            out = gru(out)          # (batch_size, height)\n",
    "        out = self.layernorm(out) # (bathc_size, height)\n",
    "        return self.final(out) # (batch_size, latent_dimension)"
   ]
  },
  {
   "cell_type": "markdown",
   "metadata": {
    "id": "TdfkM5J3oIy0"
   },
   "source": [
    "##### Decoder"
   ]
  },
  {
   "cell_type": "code",
   "execution_count": 31,
   "metadata": {
    "id": "qQaMxU__oKzI"
   },
   "outputs": [],
   "source": [
    "class GRUDecoder(tf.keras.layers.Layer):\n",
    "    \"\"\"\n",
    "    Questo decoder genera una sequenza di output a partire dall'encoding.\n",
    "    Utilizza un embedding come ingresso per ogni token e genera uno stato finale z\n",
    "    che è l'encoding dell'intera sequenza di ingresso, di dimensione latent_dimension.\n",
    "\n",
    "    vocab_size è il numero totale di token validi (0 escluso)\n",
    "    d è la profondità dell'embedding\n",
    "    \"\"\"\n",
    "    def __init__(self, vocab_size, d, latent_dimension, depth, height):\n",
    "        super(GRUDecoder, self).__init__()\n",
    "\n",
    "        assert depth > 0 and height > 0\n",
    "        self.grus = [tf.keras.layers.GRU(height, return_sequences=True) for i in range(depth)]\n",
    "\n",
    "        self.layernorm = tf.keras.layers.LayerNormalization(epsilon=1e-6)\n",
    "\n",
    "        self.final = tf.keras.layers.TimeDistributed(tf.keras.layers.Dense(vocab_size,\n",
    "                                                                            activation='softmax'))\n",
    "\n",
    "    def call(self, encoding):\n",
    "        out = self.grus[0](encoding) # (batch_size, L, height)\n",
    "        for gru in self.grus[1:]:\n",
    "            out = gru(out)        # (batch_size, L, height)\n",
    "        out = self.layernorm(out)\n",
    "        return self.final(out)  # (batch_size, L, vocab_size)"
   ]
  },
  {
   "cell_type": "markdown",
   "metadata": {
    "id": "ip3gye1Hrzpv"
   },
   "source": [
    "##### Autoencoder"
   ]
  },
  {
   "cell_type": "code",
   "execution_count": 32,
   "metadata": {
    "id": "PBrf17hrr2uZ"
   },
   "outputs": [],
   "source": [
    "class GRUAutoencoder(tf.keras.Model):\n",
    "    \"\"\"\n",
    "    Questo è un semplice autoencoder che utilizza delle reti ricorrenti GRU\n",
    "    come encoder e decoder.\n",
    "    \"\"\"\n",
    "    def __init__(self, vocab_size, d, latent_dimension, enc_height=512, enc_depth=4, dec_height=1024, dec_depth=4):\n",
    "        super(GRUAutoencoder, self).__init__()\n",
    "\n",
    "        self.latent_dimension = latent_dimension\n",
    "        self.vocab_size = vocab_size\n",
    "\n",
    "        self.encoder = GRUEncoder(vocab_size, d, latent_dimension, enc_depth, enc_height)\n",
    "        self.decoder = GRUDecoder(vocab_size, d, latent_dimension, dec_depth, dec_height)\n",
    "\n",
    "        self.loss_measure = tf.keras.losses.SparseCategoricalCrossentropy(reduction='none')\n",
    "        self.loss_metric = tf.keras.metrics.Mean(name='train_loss')\n",
    "        self.accuracy_metric = tf.keras.metrics.Mean(name='train_accuracy')\n",
    "    \n",
    "    def build(self, input_shape):\n",
    "        return input_shape\n",
    "  \n",
    "    def call(self, x):\n",
    "        encoding = self.encoder(x) # (batch_size, latent_dimension)\n",
    "        encoding =  tf.repeat(encoding, tf.shape(x)[1], axis=0) # (batch_size*L, latent_dimension)\n",
    "        encoding = tf.reshape(encoding, (tf.shape(x)[0], tf.shape(x)[1], -1)) # (batch_size, L, latent_dimension)\n",
    "        out = self.decoder(encoding) # (batch_size, L, vocab_size)\n",
    "        return out\n",
    "\n",
    "    def loss_function(self, x, y_hat):\n",
    "        mask = tf.math.logical_not(tf.math.equal(x, 0))\n",
    "        # Devo far sì che i token validi partano da 0, perché l'output della rete decoder\n",
    "        # ha come token minimo 0 ottenuto tramite argmax sul vettore softmax restituito\n",
    "        x = tf.maximum(x-1, tf.zeros_like(x))\n",
    "        loss = self.loss_measure(x, y_hat) #(batch_size,L)\n",
    "\n",
    "        mask = tf.cast(mask, dtype=loss.dtype)\n",
    "        loss *= mask # Seleziono quei contributi di loss che corrispondono a token validi\n",
    "\n",
    "        return tf.reduce_sum(loss)/tf.reduce_sum(mask)\n",
    "  \n",
    "    def accuracy_function(self, x, y_hat):\n",
    "        y_hat = tf.argmax(y_hat, axis=-1)+1 # converto a token interi y_hat(il token 0 no)\n",
    "        accuracies = tf.equal(x, tf.cast(y_hat,x.dtype))\n",
    "\n",
    "        mask = tf.math.logical_not(tf.math.equal(x, 0))\n",
    "        accuracies = tf.math.logical_and(mask, accuracies)\n",
    "\n",
    "        accuracies = tf.cast(accuracies, dtype=tf.float32)\n",
    "        mask = tf.cast(mask, dtype=tf.float32)\n",
    "        # numero medio di token non nulli azzeccati\n",
    "        return tf.reduce_sum(accuracies)/tf.reduce_sum(mask)\n",
    "\n",
    "    @tf.function()\n",
    "    def train_step(self, data):\n",
    "        x = data # Durante il training ho bisogno solo di un batch di sequenze\n",
    "\n",
    "        with tf.GradientTape() as tape:\n",
    "            y_hat = self(x)\n",
    "            loss = self.loss_function(x, y_hat)\n",
    "\n",
    "        gradients = tape.gradient(loss, self.trainable_variables)\n",
    "        self.optimizer.apply_gradients(zip(gradients, self.trainable_variables))\n",
    "\n",
    "        self.loss_metric(loss)\n",
    "        self.accuracy_metric(self.accuracy_function(x, y_hat))\n",
    "        return {}\n",
    "    \n",
    "    @tf.function()\n",
    "    def evaluation_step(self, data):\n",
    "        y_hat = self(data)\n",
    "        return self.loss_function(data,y_hat), self.accuracy_function(data, y_hat)\n",
    "    \n",
    "    def train(self, x, epochs, batch_size, validation=None, shuffle=False, prev_history=None):\n",
    "        batch_size = min(x.shape[0], batch_size)\n",
    "        batches = x.shape[0]//batch_size\n",
    "        \n",
    "        history = []\n",
    "        if prev_history is not None:\n",
    "            history += prev_history\n",
    "            \n",
    "        if validation is not None:\n",
    "            history.append(\n",
    "                {'training_loss': [],\n",
    "                 'training_accuracy': [],\n",
    "                 'validation_loss': [],\n",
    "                 'validation_accuracy': []}\n",
    "            ) # new training session\n",
    "        else:\n",
    "            history.append(\n",
    "                {'training_loss': [],\n",
    "                 'training_accuracy': []}\n",
    "            ) # new training session\n",
    "        \n",
    "        for epoch in range(epochs):\n",
    "            self.loss_metric.reset_states()\n",
    "            self.accuracy_metric.reset_states()\n",
    "\n",
    "            if shuffle:\n",
    "                np.random.shuffle(x)\n",
    "\n",
    "            for i in range(0,x.shape[0],batch_size):\n",
    "                batch = x[i:i+batch_size]\n",
    "                self.train_step(batch)\n",
    "\n",
    "                print('\\rBatch {}/{} loss: {:.4f} accuracy: {:.4f}'.format(i//batch_size+1,\n",
    "                                                                    batches,\n",
    "                                                                    self.loss_metric.result(),\n",
    "                                                                    self.accuracy_metric.result()),\n",
    "                        end='',\n",
    "                        flush=True)\n",
    "            history[-1]['training_loss'].append(self.loss_metric.result())\n",
    "            history[-1]['training_accuracy'].append(self.accuracy_metric.result())\n",
    "            if validation is not None:\n",
    "                val_loss, val_acc = self.evaluation_step(validation)\n",
    "                history[-1]['validation_loss'].append(val_loss)\n",
    "                history[-1]['validation_accuracy'].append(val_acc)\n",
    "                print('\\rEpoch {}/{} train loss: {:.4f} accuracy: {:.4f}; validation loss: {:.4f} accuracy: {:.4f}'.format(\n",
    "                        epoch+1, epochs,\n",
    "                        self.loss_metric.result(),\n",
    "                        self.accuracy_metric.result(),\n",
    "                        val_loss,val_acc))\n",
    "            else:\n",
    "                print('\\rEpoch {}/{} loss: {:.4f} accuracy: {:.4f}'.format(epoch+1, epochs, self.loss_metric.result(), self.accuracy_metric.result()))\n",
    "        return history\n",
    "    \n",
    "    def test(self, x, batch_size):\n",
    "        batch_size = min(x.shape[0], batch_size)\n",
    "        batches = x.shape[0]//batch_size\n",
    "\n",
    "        cumul_acc = 0\n",
    "        cumul_loss = 0\n",
    "        counter = 0\n",
    "        for i in range(0,x.shape[0],batch_size):\n",
    "            batch = x[i:i+batch_size]\n",
    "            loss, acc = self.evaluation_step(batch)\n",
    "            cumul_loss += loss\n",
    "            cumul_acc += acc\n",
    "            counter += 1\n",
    "        \n",
    "        return cumul_loss/counter, cumul_acc/counter\n",
    "            "
   ]
  },
  {
   "cell_type": "markdown",
   "metadata": {
    "id": "yMaSo9DMaS7Z"
   },
   "source": [
    "#### GRU Variational Autoencoder"
   ]
  },
  {
   "cell_type": "markdown",
   "metadata": {
    "id": "fhYRukEHaiSq"
   },
   "source": [
    "##### Layer di Campionamento"
   ]
  },
  {
   "cell_type": "code",
   "execution_count": 33,
   "metadata": {
    "id": "8_OhIWCmanFL"
   },
   "outputs": [],
   "source": [
    "class Sampling(tf.keras.layers.Layer):\n",
    "    \"\"\"\n",
    "    Questo livello prende due input, rispettivamente, la media e la logvarianza\n",
    "    della distribuzione latente (devono avere shape (batch_size, latent_dimension))\n",
    "    e restituisce un vettore campionato da tale distribuzione tramite la proprietà\n",
    "    di parametrizzazione delle distribuzioni normali.\n",
    "    In questo modo questo layer, pur essendo casuale la sua uscita, risulta comunque\n",
    "    differenziabile rispetto ai due ingressi, permettendo così la backpropagation.\n",
    "\n",
    "    La logvarianza può essere un vettore perché assumiamo che la matrice di covarianza\n",
    "    sia data semplicemente da diag(z_log_var).\n",
    "    \"\"\"\n",
    "    def build(self, input_shape):\n",
    "        return input_shape[0]\n",
    "\n",
    "    def call(self, inputs):\n",
    "        z_mean, z_log_var = inputs\n",
    "        tf.assert_equal(tf.shape(z_mean), tf.shape(z_log_var), message='z mean and z log var must have same shape')\n",
    "        N = tf.shape(z_mean)[0]\n",
    "        latent_dim = tf.shape(z_mean)[1]\n",
    "        epsilon = tf.keras.backend.random_normal(shape=(N, latent_dim))\n",
    "        return z_mean + tf.exp(0.5 * z_log_var) * epsilon"
   ]
  },
  {
   "cell_type": "markdown",
   "metadata": {
    "id": "OPWzjv80dWFH"
   },
   "source": [
    "##### Encoder"
   ]
  },
  {
   "cell_type": "code",
   "execution_count": 34,
   "metadata": {
    "id": "qt3mOTvidWFK"
   },
   "outputs": [],
   "source": [
    "class GRUVEncoder(tf.keras.layers.Layer):\n",
    "    \"\"\"\n",
    "    Questo encoder scorre una sequenza di token di lunghezza variabile.\n",
    "    Utilizza un embedding come ingresso per ogni token e genera due vettori finali\n",
    "    che rappresentano la media e la log-covarianza( vettore degli elementi diagonali)\n",
    "    della distribuzione latente.\n",
    "\n",
    "    vocab_size è il numero totale di token validi (0 escluso)\n",
    "    d è la profondità dell'embedding\n",
    "    \"\"\"\n",
    "    def __init__(self, vocab_size, d, latent_dimension, depth, height, bidirectional=False):\n",
    "        super(GRUVEncoder, self).__init__()\n",
    "\n",
    "        assert depth > 0 and height > 0\n",
    "\n",
    "        self.d = d\n",
    "        self.embedding = tf.keras.layers.Embedding(vocab_size+1, d, mask_zero=True)\n",
    "\n",
    "        if not bidirectional:\n",
    "            self.grus = [tf.keras.layers.GRU(height, return_sequences=True) for i in range(depth-1)]\n",
    "        else:\n",
    "            self.grus = [tf.keras.layers.Bidirectional(tf.keras.layers.GRU(height, return_sequences=True)) for i in range(depth-1)]\n",
    "        self.grus.append(tf.keras.layers.GRU(height))\n",
    "\n",
    "        self.mean_nn = tf.keras.layers.Dense(latent_dimension)\n",
    "        self.logvar_nn = tf.keras.layers.Dense(latent_dimension)\n",
    "        self.latent_dimension = latent_dimension\n",
    "        self.layernorm = tf.keras.layers.LayerNormalization(epsilon=1e-6)\n",
    "        self.sampling = Sampling()\n",
    "  \n",
    "    def build(self, input_shape):\n",
    "        return (input_shape[0], self.latent_dimension)\n",
    "\n",
    "    def call(self, x, return_parameters=False):\n",
    "        emb = self.embedding(x)       # (batch_size, L, d)\n",
    "        out = self.grus[0](emb)          # (batch_size, L, 2048)\n",
    "        for gru in self.grus[1:]:\n",
    "            out = gru(out)          # (batch_size, height)\n",
    "\n",
    "        out = self.layernorm(out) # (batch_size, height)\n",
    "        mean = self.mean_nn(out) # (batch_size, latent_dimension)\n",
    "        log_var = self.logvar_nn(out) # (batch_size, latent_dimension)\n",
    "        z = self.sampling([mean, log_var]) # (batch_size, latent_dimension)\n",
    "        if return_parameters:\n",
    "            return z, mean, log_var\n",
    "        else:\n",
    "            return z"
   ]
  },
  {
   "cell_type": "markdown",
   "metadata": {
    "id": "ZUiQ_eoLeu6k"
   },
   "source": [
    "##### Decoder"
   ]
  },
  {
   "cell_type": "code",
   "execution_count": 35,
   "metadata": {
    "id": "s_vuZ5A6eu6q"
   },
   "outputs": [],
   "source": [
    "class GRUVDecoder(tf.keras.layers.Layer):\n",
    "    \"\"\"\n",
    "    Questo decoder genera una sequenza di output a partire dall'encoding.\n",
    "\n",
    "    vocab_size è il numero totale di token validi (0 escluso)\n",
    "    d è la profondità dell'embedding\n",
    "    \"\"\"\n",
    "    def __init__(self, vocab_size, d, latent_dimension, depth, height):\n",
    "        super(GRUVDecoder, self).__init__()\n",
    "\n",
    "        assert depth > 0 and height > 0\n",
    "        self.grus = [tf.keras.layers.GRU(height, return_sequences=True) for i in range(depth)]\n",
    "\n",
    "        self.layernorm = tf.keras.layers.LayerNormalization(epsilon=1e-6)\n",
    "\n",
    "        self.final = tf.keras.layers.TimeDistributed(tf.keras.layers.Dense(vocab_size,\n",
    "                                                                            activation='softmax'))\n",
    "\n",
    "    def call(self, encoding):\n",
    "        out = self.grus[0](encoding) # (batch_size, L, height)\n",
    "        for gru in self.grus[1:]:\n",
    "            out = gru(out)        # (batch_size, L, height)\n",
    "        out = self.layernorm(out)\n",
    "        return self.final(out)  # (batch_size, L, vocab_size)"
   ]
  },
  {
   "cell_type": "markdown",
   "metadata": {
    "id": "IvfSKkc7fBTj"
   },
   "source": [
    "##### Autoencoder"
   ]
  },
  {
   "cell_type": "code",
   "execution_count": 36,
   "metadata": {
    "id": "aIW65MPPfBTj"
   },
   "outputs": [],
   "source": [
    "class GRUVAutoencoder(tf.keras.Model):\n",
    "    \"\"\"\n",
    "    Implementazione di un variational autoencoder che utilizza delle reti ricorrenti\n",
    "    GRU come encoder e decoder.\n",
    "    \"\"\"\n",
    "    def __init__(self, vocab_size, d, latent_dimension, enc_height=512, enc_depth=4, dec_height=1024, dec_depth=4, beta=1, bidirectional=False):\n",
    "        super(GRUVAutoencoder, self).__init__()\n",
    "\n",
    "        self.latent_dimension = latent_dimension\n",
    "        self.vocab_size = vocab_size\n",
    "        self.beta = beta\n",
    "        \n",
    "        self.encoder = GRUVEncoder(vocab_size, d, latent_dimension, enc_depth, enc_height, bidirectional)\n",
    "        self.decoder = GRUVDecoder(vocab_size, d, latent_dimension, dec_depth, dec_height)\n",
    "\n",
    "        self.loss_measure = tf.keras.losses.SparseCategoricalCrossentropy(reduction='none')\n",
    "        self.loss_metric = tf.keras.metrics.Mean(name='total loss')\n",
    "        self.reconstr_metric = tf.keras.metrics.Mean(name='reconstruction loss')\n",
    "        self.kl_metric = tf.keras.metrics.Mean(name='KL loss')\n",
    "        self.accuracy_metric = tf.keras.metrics.Mean(name='train accuracy')\n",
    "\n",
    "    def build(self, input_shape):\n",
    "        return input_shape\n",
    "  \n",
    "    def call(self, x, return_parameters=False):\n",
    "        encoding, z_mean, z_log_var = self.encoder(x, return_parameters=True) # (batch_size, latent_dimension)\n",
    "        encoding =  tf.repeat(encoding, tf.shape(x)[1], axis=0) # (batch_size*L, latent_dimension)\n",
    "        encoding = tf.reshape(encoding, (tf.shape(x)[0], tf.shape(x)[1], -1)) # (batch_size, L, latent_dimension)\n",
    "        out = self.decoder(encoding) # (batch_size, L, vocab_size)\n",
    "        if return_parameters:\n",
    "            return out, z_mean, z_log_var\n",
    "        else:\n",
    "            return out\n",
    "\n",
    "    def loss_function(self, x, z_mean, z_log_var, y_hat):\n",
    "        # Creo una maschera di token diversi da 0\n",
    "        mask = tf.math.logical_not(tf.math.equal(x, 0))\n",
    "\n",
    "        # Devo far sì che i token validi partano da 0, perché l'output della rete decoder\n",
    "        # ha come token minimo 0 ottenuto tramite argmax sul vettore softmax restituito\n",
    "        x = tf.maximum(x-1, tf.zeros_like(x))\n",
    "\n",
    "        # Errore di ricostruzione delle sequenze\n",
    "        loss = self.loss_measure(x, y_hat) # (batch_size, L)\n",
    "\n",
    "        # Calcolo la distanza KL tra la distribuzione latente e una distribuzione normale standard\n",
    "        kl_loss = -0.5*(1 + z_log_var - tf.square(z_mean) - tf.exp(z_log_var)) # (batch_size, latent_dim)\n",
    "        kl_loss = tf.reduce_mean(kl_loss)\n",
    "\n",
    "        mask = tf.cast(mask, dtype=loss.dtype)\n",
    "\n",
    "        loss *= mask # Seleziono quei contributi di loss che corrispondono a token validi\n",
    "        reconstruction_loss = tf.reduce_sum(loss)/tf.reduce_sum(mask)\n",
    "\n",
    "        return reconstruction_loss + self.beta*kl_loss, reconstruction_loss, kl_loss\n",
    "  \n",
    "    def accuracy_function(self, x, y_hat):\n",
    "        y_hat = tf.argmax(y_hat, axis=-1)+1 # converto a token interi y_hat(il token 0 no)\n",
    "        accuracies = tf.equal(x, tf.cast(y_hat,x.dtype))\n",
    "\n",
    "        mask = tf.math.logical_not(tf.math.equal(x, 0))\n",
    "        accuracies = tf.math.logical_and(mask, accuracies)\n",
    "\n",
    "        accuracies = tf.cast(accuracies, dtype=tf.float32)\n",
    "        mask = tf.cast(mask, dtype=tf.float32)\n",
    "        # numero medio di token non nulli azzeccati\n",
    "        return tf.reduce_sum(accuracies)/tf.reduce_sum(mask)\n",
    "\n",
    "    @tf.function()\n",
    "    def train_step(self, data):\n",
    "        x = data # Durante il training ho bisogno solo di un batch di sequenze\n",
    "\n",
    "        with tf.GradientTape() as tape:\n",
    "            y_hat, z_mean, z_log_var = self(x, return_parameters=True)\n",
    "            loss, rec_loss, kl_loss = self.loss_function(x, z_mean, z_log_var, y_hat)\n",
    "\n",
    "        gradients = tape.gradient(loss, self.trainable_variables)\n",
    "        self.optimizer.apply_gradients(zip(gradients, self.trainable_variables))\n",
    "\n",
    "        self.loss_metric(loss)\n",
    "        self.reconstr_metric(rec_loss)\n",
    "        self.kl_metric(kl_loss)\n",
    "        self.accuracy_metric(self.accuracy_function(x, y_hat))\n",
    "        return {}\n",
    "    \n",
    "    @tf.function()\n",
    "    def evaluation_step(self, data):\n",
    "        y_hat, z_mean, z_logvar = self(data, return_parameters=True)\n",
    "        l, _, __ = self.loss_function(data,z_mean, z_logvar, y_hat)\n",
    "        return l, self.accuracy_function(data, y_hat)\n",
    "    \n",
    "    def train(self, x, epochs, batch_size, validation=None, shuffle=False, prev_history=None):\n",
    "        batch_size = min(x.shape[0], batch_size)\n",
    "        batches = x.shape[0]//batch_size\n",
    "        \n",
    "        history = []\n",
    "        if prev_history is not None:\n",
    "            history += prev_history\n",
    "        \n",
    "        if validation is not None:\n",
    "            history.append(\n",
    "                {'training_loss': [],\n",
    "                 'training_accuracy': [],\n",
    "                 'validation_loss': [],\n",
    "                 'validation_accuracy': []}\n",
    "            ) # new training session\n",
    "        else:\n",
    "            history.append(\n",
    "                {'training_loss': [],\n",
    "                 'training_accuracy': []}\n",
    "            ) # new training session\n",
    "        \n",
    "        for epoch in range(epochs):\n",
    "            self.loss_metric.reset_states()\n",
    "            self.accuracy_metric.reset_states()\n",
    "            self.reconstr_metric.reset_states()\n",
    "            self.kl_metric.reset_states()\n",
    "\n",
    "            if shuffle:\n",
    "                np.random.shuffle(x)\n",
    "\n",
    "            for i in range(0,x.shape[0],batch_size):\n",
    "                batch = x[i:i+batch_size]\n",
    "                self.train_step(batch)\n",
    "\n",
    "                print('\\rBatch {}/{} loss: {:.4f} reconstruction: {:.4f} kl loss: {:.4f} accuracy: {:.4f}'.format(\n",
    "                            i//batch_size+1,\n",
    "                            batches,\n",
    "                            self.loss_metric.result(),\n",
    "                            self.reconstr_metric.result(),\n",
    "                            self.kl_metric.result(),\n",
    "                            self.accuracy_metric.result()),\n",
    "                        end='',\n",
    "                        flush=True)\n",
    "            \n",
    "            history[-1]['training_loss'].append(self.loss_metric.result())\n",
    "            history[-1]['training_accuracy'].append(self.accuracy_metric.result())\n",
    "            if validation is not None:\n",
    "                val_loss, val_acc = self.evaluation_step(validation)\n",
    "                history[-1]['validation_loss'].append(val_loss)\n",
    "                history[-1]['validation_accuracy'].append(val_acc)\n",
    "                print('\\rEpoch {}/{} train loss: {:.4f} accuracy: {:.4f}; validation loss: {:.4f} accuracy: {:.4f}'.format(\n",
    "                        epoch+1, epochs,\n",
    "                        self.loss_metric.result(),\n",
    "                        self.accuracy_metric.result(),\n",
    "                        val_loss,\n",
    "                        val_acc))\n",
    "            else:\n",
    "                print('\\rEpoch {}/{} loss: {:.4f} reconstruction: {:.4f} kl loss: {:.4f} accuracy: {:.4f}'.format(\n",
    "                        epoch+1,\n",
    "                        epochs,\n",
    "                        self.loss_metric.result(), \n",
    "                        self.reconstr_metric.result(),\n",
    "                        self.kl_metric.result(),\n",
    "                        self.accuracy_metric.result()))\n",
    "        return history\n",
    "        \n",
    "    def test(self, x, batch_size):\n",
    "        batch_size = min(x.shape[0], batch_size)\n",
    "        batches = x.shape[0]//batch_size\n",
    "\n",
    "        cumul_acc = 0\n",
    "        cumul_loss = 0\n",
    "        counter = 0\n",
    "        for i in range(0,x.shape[0],batch_size):\n",
    "            batch = x[i:i+batch_size]\n",
    "            loss, acc = self.evaluation_step(batch)\n",
    "            cumul_loss += loss\n",
    "            cumul_acc += acc\n",
    "            counter += 1\n",
    "        \n",
    "        return cumul_loss/counter, cumul_acc/counter"
   ]
  },
  {
   "cell_type": "markdown",
   "metadata": {
    "id": "PfchoKZbxFqh"
   },
   "source": [
    "#### Transformer Autoencoder"
   ]
  },
  {
   "cell_type": "markdown",
   "metadata": {
    "id": "c64BY5wjKzCx"
   },
   "source": [
    "##### **Codifica della posizione**\n",
    "\n",
    "Questa è una funzione di codifica della posizione assoluta di un elemento all'interno di una sequenza, presa dal sito Tensorflow."
   ]
  },
  {
   "cell_type": "code",
   "execution_count": 37,
   "metadata": {
    "id": "bxxYgJenKRcf"
   },
   "outputs": [],
   "source": [
    "def get_angles(pos, i, d_model):\n",
    "    angle_rates = 1 / np.power(10000, (2 * (i//2)) / np.float32(d_model))\n",
    "    return pos * angle_rates"
   ]
  },
  {
   "cell_type": "code",
   "execution_count": 38,
   "metadata": {
    "id": "-uddTXHsLF1k"
   },
   "outputs": [],
   "source": [
    "def positional_encoding(position, d_model):\n",
    "    angle_rads = get_angles(np.arange(position)[:, np.newaxis],\n",
    "                          np.arange(d_model)[np.newaxis, :],\n",
    "                          d_model)\n",
    "\n",
    "    # apply sin to even indices in the array; 2i\n",
    "    angle_rads[:, 0::2] = np.sin(angle_rads[:, 0::2])\n",
    "\n",
    "    # apply cos to odd indices in the array; 2i+1\n",
    "    angle_rads[:, 1::2] = np.cos(angle_rads[:, 1::2])\n",
    "\n",
    "    pos_encoding = angle_rads[np.newaxis, ...]\n",
    "\n",
    "    return tf.cast(pos_encoding, dtype=tf.float32)"
   ]
  },
  {
   "cell_type": "markdown",
   "metadata": {
    "id": "apbAr49sMdfD"
   },
   "source": [
    "An example of what the positional encoding returns for an embedding size of 512\n",
    "for 50 different positions inside a sequence"
   ]
  },
  {
   "cell_type": "code",
   "execution_count": 39,
   "metadata": {
    "id": "QWHjNmLkLO8l"
   },
   "outputs": [
    {
     "name": "stdout",
     "output_type": "stream",
     "text": [
      "(1, 50, 512)\n"
     ]
    },
    {
     "data": {
      "image/png": "[encoded data removed]",
      "text/plain": [
       "<Figure size 432x288 with 2 Axes>"
      ]
     },
     "metadata": {
      "image/png": {
       "height": 265,
       "width": 380
      },
      "needs_background": "light"
     },
     "output_type": "display_data"
    }
   ],
   "source": [
    "pos_encoding = positional_encoding(50, 512)\n",
    "print(pos_encoding.shape)\n",
    "\n",
    "plt.pcolormesh(pos_encoding[0], cmap='RdBu')\n",
    "plt.xlabel('Depth')\n",
    "plt.xlim((0, 512))\n",
    "plt.ylabel('Position')\n",
    "plt.colorbar()\n",
    "plt.show()"
   ]
  },
  {
   "cell_type": "markdown",
   "metadata": {
    "id": "BDXPS6QVOIoK"
   },
   "source": [
    "##### **DotProduct Attention**"
   ]
  },
  {
   "cell_type": "code",
   "execution_count": 40,
   "metadata": {
    "id": "k6MPpZSGvyJV"
   },
   "outputs": [],
   "source": [
    "def dotproduct_attention(Q, K, V, mask=None, Er=None):\n",
    "    \"\"\"\n",
    "    Questa funzione prende in input un \"tensore di matrici\", ovvero un tensore di\n",
    "    cui mi interessano solo le ultime due dimensioni.\n",
    "\n",
    "    Sono presenti i seguenti vincoli:\n",
    "    Q, K, V devono avere dimensioni iniziali uguali, affinché si possa fare il matmul.\n",
    "\n",
    "    K e V devono avere numero di righe (penultima dimensione) uguali.\n",
    "\n",
    "    La maschera se presente deve avere dimensioni iniziali di cui si può fare\n",
    "    broadcast a quelle degli altri addendi.\n",
    "\n",
    "    In generale avremo\n",
    "    Q: (..., Lq, d)\n",
    "    K: (..., L, dk)\n",
    "    V: (..., L, dk)\n",
    "    mask: (..., seq_len_q, seq_len_k) o broadcastable\n",
    "\n",
    "    Restituisce un tensore (..., Lq, dk) cioé il risultato delle query\n",
    "    e i pesi per ogni query attention_weights\n",
    "    \"\"\"\n",
    "    tf.assert_equal(tf.shape(Q)[-1], tf.shape(K)[-1], message=\"Cannot perform attention Q,K shapes\")\n",
    "    d = tf.shape(Q)[-1]\n",
    "\n",
    "    QK = tf.matmul(Q,K, transpose_b=True)           # (..., Lq, L)\n",
    "    if Er is not None:    # Implementazione memory efficient by Huang et al.in \"Music Transformer\"\n",
    "        QEr = tf.matmul(Q,Er,transpose_b=True)\n",
    "        QErshape= tf.shape(QEr)\n",
    "        batch = QErshape[0]\n",
    "        h = QErshape[1]\n",
    "        Lq = QErshape[2]\n",
    "        L = QErshape[3]\n",
    "        zz = tf.zeros((batch, h, Lq, 1),dtype=QEr.dtype)\n",
    "        QEr_pad = tf.concat( (zz,  QEr), axis=-1 )\n",
    "        QEr_rsp = tf.reshape(QEr_pad, (-1, h, Lq+1, L))\n",
    "        Srel = tf.slice(QEr_rsp, (0,0,1,0), (batch,h,Lq,L))\n",
    "        scaled = (QK+Srel)/ tf.math.sqrt(tf.cast(d, QK.dtype)) # (..., Lq, L)\n",
    "    else:\n",
    "        scaled = QK/ tf.math.sqrt(tf.cast(d, QK.dtype)) # (..., Lq, L)\n",
    "\n",
    "    if mask is not None: # La maschera seleziona gli elementi da eliminare\n",
    "        tf.assert_equal(tf.shape(QK)[-1], tf.shape(mask)[-1], message=\"Cannot perform attention: QK' mask shapes\")\n",
    "        scaled += scaled*mask + (-1e10)*(1-mask) # setto ad un valore circa -infinito\n",
    "\n",
    "    # Per ogni query ho il valore di probab di match per ogni elemento della sequenza\n",
    "    matching_weights = tf.nn.softmax(scaled)        # (..., Lq, L)\n",
    "\n",
    "    output = tf.matmul(matching_weights, V)         # (..., Lq, d_v)\n",
    "    return (output, matching_weights)"
   ]
  },
  {
   "cell_type": "markdown",
   "metadata": {
    "id": "cu_s2WhmPT1Q"
   },
   "source": [
    "##### **Multi-Head Attention**"
   ]
  },
  {
   "cell_type": "code",
   "execution_count": 41,
   "metadata": {
    "id": "tUTKO0c4PKpf"
   },
   "outputs": [],
   "source": [
    "class MultiHeadAttention(tf.keras.layers.Layer):\n",
    "    \"\"\"\n",
    "    Implementazione di un MultiheadAttention Layer.\n",
    "\n",
    "    Composto da num_heads meccanismi di Attention in parallelo.\n",
    "\n",
    "    Ciascun Attention Head si ricava da solo le proprie Q, K e V usando\n",
    "    una proiezione affine (rete neurale feedforward senza attivazione), a partire\n",
    "    dalle sequenze di ingresso Q K V fornite.\n",
    "\n",
    "    Ogni Attention head poi restituisce una parte di matrice di risultati per ogni\n",
    "    query di Q.\n",
    "\n",
    "    Ogni parte viene poi unita in una unica matrice (Lq, d_v) e passata in una\n",
    "    trasformazione affine.\n",
    "\n",
    "    \"\"\"\n",
    "\n",
    "    def __init__(self, num_heads, d_v, d, pos_max=None):\n",
    "        super(MultiHeadAttention, self).__init__()\n",
    "        self.num_heads = num_heads\n",
    "        self.L_max = pos_max\n",
    "\n",
    "        self.d_v = d_v\n",
    "        self.d = d\n",
    "\n",
    "        self.depth = self.d_v // self.num_heads # Parte della dimensione totale per ogni head\n",
    "\n",
    "        assert self.d_v % self.num_heads == 0, \"num_heads deve essere divisore di d_v\"\n",
    "        assert self.d % self.num_heads == 0, \"num_heads deve essere divisore di d\"\n",
    "\n",
    "        # Trasformazioni affini\n",
    "        self.wq = tf.keras.layers.Dense(self.d)\n",
    "        self.wk = tf.keras.layers.Dense(self.d_v)\n",
    "        self.wv = tf.keras.layers.Dense(self.d_v)\n",
    "\n",
    "        if pos_max is not None:\n",
    "              self.relative_pos = True\n",
    "        else:\n",
    "              self.relative_pos = False\n",
    "\n",
    "        # Embedding per la posizione relativa tra gli elementi della sequenza\n",
    "        if self.relative_pos:\n",
    "              self.relative_emb = tf.keras.layers.Embedding(self.L_max, d_v)\n",
    "\n",
    "        self.final = tf.keras.layers.TimeDistributed(tf.keras.layers.Dense(self.d_v))\n",
    "\n",
    "    def build(self, input_shape):\n",
    "        # Dovrebbe essere [ (batch_size, L, d) x 3 ]\n",
    "        shapeV = input_shape[0]\n",
    "        shapeK = input_shape[1]\n",
    "        shapeQ = input_shape[2]\n",
    "\n",
    "        tf.assert_equal(shapeQ[-1], shapeK[-1], message='K Q different depth')\n",
    "        tf.assert_equal(shapeV[-2], shapeK[-2], message='K V different Lengths')\n",
    "\n",
    "        return tf.concat((shapeQ[:-1],tf.fill((1,), self.d_v)), axis=0)\n",
    "\n",
    "    def split_heads(self, x, batch_size):\n",
    "        \"\"\"\n",
    "        Restituisce lo stesso tensore di ingresso in cui l'ultima dimensione viene divisa\n",
    "        in num_heads parti grandi d_h.\n",
    "        Shape di uscita (batch_size, num_heads, L, d_h)\n",
    "        \"\"\"\n",
    "        # Suddivido l'ultima dimensione in gruppi grandi self.depth\n",
    "        # ottengo shape (batch_size, L, num_heads, self.depth)\n",
    "        x = tf.reshape(x, (batch_size, -1, self.num_heads, self.depth))\n",
    "\n",
    "        # Riordino gli elementi in modo da avere num_heads come seconda dimensione\n",
    "        return tf.transpose(x, perm=[0, 2, 1, 3])\n",
    "\n",
    "    def call(self, inputs, mask=None):\n",
    "        v,k,q = inputs\n",
    "        batch_size = tf.shape(q)[0]\n",
    "\n",
    "        # Ottengo nuove versioni delle matrici di input\n",
    "        q = self.wq(q)  # (batch_size, Lq, d)\n",
    "        k = self.wk(k)  # (batch_size, L, d)\n",
    "        v = self.wv(v)  # (batch_size, L, d_v)\n",
    "\n",
    "        q = self.split_heads(q, batch_size)  # (batch_size, num_heads, Lq, depth)\n",
    "        k = self.split_heads(k, batch_size)  # (batch_size, num_heads, L, depth)\n",
    "        v = self.split_heads(v, batch_size)  # (batch_size, num_heads, L, depth)\n",
    "\n",
    "        lq = tf.shape(q)[-2]\n",
    "        l = tf.shape(v)[-2]\n",
    "\n",
    "        Er = None\n",
    "        if self.relative_pos:\n",
    "            rpos = tf.range(0,l) # Vettore di L posizioni relative\n",
    "            rpos = tf.expand_dims(rpos,0) #(1, L)\n",
    "            rpos = tf.repeat(rpos, batch_size,axis=0) # (batch_size,L)\n",
    "            Er = self.relative_emb(rpos) #(batch, L, d_v)\n",
    "            Er = self.split_heads(Er, batch_size)# (batch_size, num_heads, L, depth)\n",
    "\n",
    "        # La maschera contiene 0 negli elementi da non considerare\n",
    "        if mask is not None:\n",
    "            mask = tf.expand_dims(mask, axis=1) # (batch_size, 1, L) booleano\n",
    "            mask = tf.repeat(mask, lq, axis=1) # (batch_size, Lq, L)\n",
    "            mask = tf.expand_dims(mask, axis=1) # (batch_size, 1, Lq, L) booleano\n",
    "            mask = tf.cast(mask, v.dtype)\n",
    "\n",
    "        # attention shape         => (batch_size, num_heads, Lq, depth)\n",
    "        # attention_weights shape => (batch_size, num_heads, Lq, L)\n",
    "        attention, attention_weights = dotproduct_attention(q, k, v, mask, Er)\n",
    "\n",
    "        # Concateno verticalmente l'output di tutte le Attention head\n",
    "        # ricordando che d_v = num_heads*depth\n",
    "        attention = tf.transpose(attention, perm=[0, 2, 1, 3])  # (batch_size, Lq, num_heads, depth)\n",
    "        concat_attention = tf.reshape(attention, (batch_size, lq, self.d_v))  # (batch_size, Lq, d_v)\n",
    "\n",
    "        # Trasformazione affine finale\n",
    "        return self.final(concat_attention)  # (batch_size, Lq, d_v)"
   ]
  },
  {
   "cell_type": "markdown",
   "metadata": {
    "id": "rd7SL4LVQGps"
   },
   "source": [
    "##### **Transformer Layer**"
   ]
  },
  {
   "cell_type": "code",
   "execution_count": 42,
   "metadata": {
    "id": "b8cAUGv1QDbF"
   },
   "outputs": [],
   "source": [
    "class TransformerLayer(tf.keras.layers.Layer):\n",
    "    \"\"\"\n",
    "    Questo Layer implementa un livello di trasformazione.\n",
    "\n",
    "    è composto da un Multihead Attention, seguito da norm con residui,\n",
    "    e da una feedforward che prende i valori di MHA prodotti, seguito da norm con\n",
    "    residui.\n",
    "\n",
    "    La rete feed forward è semplicemente un modello Sequential con due Dense layer.\n",
    "    Il primo layer ha un'attivazione ReLU, il secondo è una semplice trasf affine.\n",
    "\n",
    "    Si possono scegliere a priori il numero di Attention Heads e la dimensione del\n",
    "    livello ReLU della FFNN.\n",
    "\n",
    "    Nella rete viene eseguito un dropout (durante il training) con rate 10%.\n",
    "\n",
    "    Il livello guarda l'intera sequenza di ingresso e genera una sequenza di uscita\n",
    "    della stessa lunghezza, ricavata utilizzando Attention multipli sulla sequenza\n",
    "    di ingresso.\n",
    "\n",
    "    \"\"\"\n",
    "\n",
    "    def __init__(self, num_heads, dim_ff, d, rate=0.1, max_length=None, k=None):\n",
    "        super(TransformerLayer, self).__init__()\n",
    "\n",
    "        self.mha = MultiHeadAttention(num_heads, d, d, max_length)\n",
    "        # Per costruire completamente la rete feedforward bisogna aspettare di conoscere la dimensione\n",
    "        # dei valori di Attention d_v (lazy construction)\n",
    "        self.ffn = tf.keras.models.Sequential()\n",
    "        self.ffn.add(tf.keras.layers.Dense(dim_ff, activation='relu'))\n",
    "\n",
    "        self.layernorm1 = tf.keras.layers.LayerNormalization(epsilon=1e-6)\n",
    "        self.layernorm2 = tf.keras.layers.LayerNormalization(epsilon=1e-6)\n",
    "\n",
    "        self.dropout1 = tf.keras.layers.Dropout(rate)\n",
    "        self.dropout2 = tf.keras.layers.Dropout(rate)\n",
    "\n",
    "        self.k = k\n",
    "        if self.k is not None:\n",
    "            self.ffn.add(tf.keras.layers.TimeDistributed(tf.keras.layers.Dense(d, name='PointwiseDense_{}'.format(self.k))))\n",
    "        else:\n",
    "            self.ffn.add(tf.keras.layers.TimeDistributed(tf.keras.layers.Dense(d)))\n",
    "\n",
    "    def build(self, input_shape):\n",
    "        # Questo encoder riceverà dei tensori con shape (batch_size, L, dim_embedding)\n",
    "        return input_shape\n",
    "\n",
    "    def call(self, x, training=False, mask=None):\n",
    "        out = self.mha([x, x, x], mask)  # (batch_size, L, d)\n",
    "        out = self.dropout1(out, training=training)\n",
    "        # Si applica layernorm non solo su out ma anche sui residui x direttamente\n",
    "        out1 = self.layernorm1(x + out)  # (batch_size, L, d)\n",
    "\n",
    "        ffn_output = self.ffn(out1)  # (batch_size, L, d)\n",
    "        ffn_output = self.dropout2(ffn_output, training=training)\n",
    "        out2 = self.layernorm2(out1 + ffn_output)  # (batch_size, L, d)\n",
    "\n",
    "        return out2"
   ]
  },
  {
   "cell_type": "markdown",
   "metadata": {
    "id": "yk2mNuH5RtQV"
   },
   "source": [
    "##### **Encoder**"
   ]
  },
  {
   "cell_type": "code",
   "execution_count": 43,
   "metadata": {
    "id": "qYlh-uwJ-x0B"
   },
   "outputs": [],
   "source": [
    "class Encoder(tf.keras.layers.Layer):\n",
    "    \"\"\"\n",
    "    L'encoder completo comprende diversi layers di trasformazione in parallelo.\n",
    "\n",
    "    Inoltre gestisce anche le sequenze di input della forma (batch_size, L) i cui\n",
    "    elementi sono numeri interi non-negativi (token), lo 0 è considerato padding.\n",
    "\n",
    "    L'encoder utilizza degli embedding per trasformare la sequenza in ingresso in\n",
    "    (batch_size, L, d_embedding=d), per fare ciò deve sapere a priori quanti sono i\n",
    "    diversi valori di token validi che può incontrare (0 escluso dal conteggio) e\n",
    "    il valore d da cui dipende lo spazio di arrivo.\n",
    "\n",
    "    Inoltre questa implementazione si avvale di una codifica della posizione assoluta\n",
    "    di ogni elemento all'interno della sequenza usando encoding sinusoidali.\n",
    "    Deve perciò conoscere a priori la lunghezza massima di una sequenza L di token.\n",
    "\n",
    "    \"\"\"\n",
    "\n",
    "    def __init__(self, d, num_layers, num_heads, dim_ff, vocab_size,\n",
    "               max_pos, rate=0.1):\n",
    "        super(Encoder, self).__init__()\n",
    "\n",
    "        self.d = d\n",
    "        self.num_layers = num_layers\n",
    "\n",
    "        self.embedding = tf.keras.layers.Embedding(vocab_size+1, d, mask_zero=True)\n",
    "\n",
    "        # Fornisce per ogni posizione nella sequenza un embedding che la rappresenta\n",
    "        self.pos_encoding = positional_encoding(max_pos, d) # (1, max_pos, d)\n",
    "\n",
    "        self.enc_layers = [TransformerLayer(num_heads, dim_ff, d, rate, max_pos, i) for i in range(num_layers)]\n",
    "\n",
    "        self.dropout = tf.keras.layers.Dropout(rate)\n",
    "        self.normal = tf.keras.layers.LayerNormalization(epsilon=1e-6)\n",
    "\n",
    "    def build(self, input_shape):\n",
    "        return (input_shape[0], input_shape[-1])\n",
    "\n",
    "    def compute_mask(self, x, mask=None):\n",
    "        return self.embedding.compute_mask(x)\n",
    "\n",
    "    def call(self, x, training=False):\n",
    "        L = tf.shape(x)[1]\n",
    "\n",
    "        # Adding 2 embedding of position and content\n",
    "        x = self.embedding(x)                                 # (batch_size, L, d)\n",
    "        mask = x._keras_mask\n",
    "        x *= tf.math.sqrt(tf.cast(self.d, tf.float32))\n",
    "        x += self.pos_encoding[:, :L, :]\n",
    "\n",
    "        x = self.dropout(x, training=training)\n",
    "\n",
    "        for i in range(self.num_layers):\n",
    "            x = self.enc_layers[i](x, training, mask)\n",
    "\n",
    "        # L'encoding finale sarà la media degli encoding di ogni elemento della seq.\n",
    "        # Elimino la dipendenza dalla posizione nella sequenza.\n",
    "        # Qui introduco un effetto \"collo di bottiglia\", in modo da rendere il più\n",
    "        # possibile compressa l'informazione ed evitare che trapelino troppe informazioni\n",
    "        # dirette al decoder. (l'encoder potrebbe altrimenti \"suggerire\" gli output corretti)\n",
    "        x = tf.reduce_mean(x, axis=1)         # (batch_size, d)\n",
    "\n",
    "        return self.normal(x)"
   ]
  },
  {
   "cell_type": "markdown",
   "metadata": {
    "id": "EUBfI_m7Rvyi"
   },
   "source": [
    "##### **Decoder**"
   ]
  },
  {
   "cell_type": "code",
   "execution_count": 44,
   "metadata": {
    "id": "qqZ3tlqfRvKr"
   },
   "outputs": [],
   "source": [
    "class Decoder(tf.keras.layers.Layer):\n",
    "    def __init__(self, d, num_layers, num_heads, dim_ff, max_pos, rate=0.1):\n",
    "        super(Decoder, self).__init__()\n",
    "\n",
    "        self.d = d\n",
    "        self.num_layers = num_layers\n",
    "\n",
    "        self.dec_layers = [TransformerLayer(num_heads, dim_ff, d, rate, max_pos, k=i) for i in range(num_layers)]\n",
    "        self.dropout = tf.keras.layers.Dropout(rate)\n",
    "\n",
    "    def build(self, input_shape):\n",
    "        return input_shape\n",
    "\n",
    "    def call(self, encodings, training=False, mask=None):\n",
    "        encodings = self.dropout(encodings, training=training)\n",
    "        for i in range(self.num_layers):\n",
    "            x = self.dec_layers[i](encodings, training=training, mask=mask)\n",
    "        # x => (batch_size, L, d)\n",
    "        return x"
   ]
  },
  {
   "cell_type": "code",
   "execution_count": 45,
   "metadata": {
    "id": "BTiEzPN4o2f6"
   },
   "outputs": [
    {
     "name": "stdout",
     "output_type": "stream",
     "text": [
      "(64, 80, 512)\n"
     ]
    }
   ],
   "source": [
    "sample_decoder = Decoder(num_layers=2, d=512, num_heads=8, \n",
    "                         dim_ff=2048, max_pos=200)\n",
    "temp_input = tf.random.uniform((64, 80, 512), dtype=tf.float32, minval=0, maxval=200)\n",
    "\n",
    "sample_decoder_output = sample_decoder(temp_input, training=False, mask=None)\n",
    "\n",
    "print(sample_decoder_output.shape)"
   ]
  },
  {
   "cell_type": "markdown",
   "metadata": {
    "id": "i6uhD_dNVyrR"
   },
   "source": [
    "##### **Transformer AutoEncoder**"
   ]
  },
  {
   "cell_type": "code",
   "execution_count": 46,
   "metadata": {
    "id": "fLdEimhLR517"
   },
   "outputs": [],
   "source": [
    "class TransformerAE(tf.keras.Model):\n",
    "    def __init__(self, num_layers, d, num_heads, dim_ff, vocab_size, \n",
    "               max_pos, rate=0.1):\n",
    "        super(TransformerAE, self).__init__()\n",
    "\n",
    "        self.vocab_size = vocab_size\n",
    "        self.encoder = Encoder(d,num_layers,num_heads,dim_ff,vocab_size,max_pos,rate)\n",
    "        self.decoder = Decoder(d,num_layers,num_heads,dim_ff,max_pos,rate)\n",
    "\n",
    "        self.loss_metric = tf.keras.metrics.Mean(name='train_loss')\n",
    "        self.accuracy_metric = tf.keras.metrics.Mean(name='train_accuracy')\n",
    "        self.loss_measure = tf.keras.losses.SparseCategoricalCrossentropy(reduction='none')\n",
    "\n",
    "        # La rete complessiva restituisce un output calcolato sulla base del decoder\n",
    "        # L'output è una distribuzione discreta di probabilità per ciascun token valido\n",
    "        # del vocabolario.\n",
    "        self.final_layer = tf.keras.layers.Dense(vocab_size, activation='softmax')\n",
    "\n",
    "#    def build(self, input_shape):\n",
    "#        return (input_shape[0], input_shape[1], self.vocab_size)\n",
    "\n",
    "    def call(self, x, training=False):\n",
    "        encoding = self.encoder(x, training) # (batch_size, d)\n",
    "\n",
    "        batch_size = tf.shape(x)[0]\n",
    "        L = tf.shape(x)[1]\n",
    "\n",
    "        encodings = tf.repeat(encoding, L, axis=0)\n",
    "        encodings = tf.reshape(encodings,(batch_size, L, -1))\n",
    "        mask = self.encoder.compute_mask(x)\n",
    "\n",
    "        out = self.decoder(encodings, training=training, mask=mask)\n",
    "\n",
    "        return self.final_layer(out)    # (batch_size, L, vocab_size)\n",
    "\n",
    "    def loss_function(self, x, y_hat):\n",
    "        mask = tf.math.logical_not(tf.math.equal(x, 0))\n",
    "        # Devo far sì che i token validi partano da 0, perché l'output della rete decoder\n",
    "        # ha come token minimo 0 ottenuto tramite argmax sul vettore softmax restituito\n",
    "        # no, no, p\n",
    "        x = tf.maximum(x-1, tf.zeros_like(x))\n",
    "        loss = self.loss_measure(x, y_hat)\n",
    "\n",
    "        mask = tf.cast(mask, dtype=loss.dtype)\n",
    "        loss *= mask # Seleziono quei contributi di loss che corrispondono a token validi\n",
    "\n",
    "        return tf.reduce_sum(loss)/tf.reduce_sum(mask)\n",
    "  \n",
    "    def accuracy_function(self, x, y_hat):\n",
    "        y_hat = tf.argmax(y_hat, axis=-1)+1 # converto a token interi y_hat(il token 0 no)\n",
    "        accuracies = tf.equal(x, tf.cast(y_hat,x.dtype))\n",
    "\n",
    "        mask = tf.math.logical_not(tf.math.equal(x, 0))\n",
    "        accuracies = tf.math.logical_and(mask, accuracies)\n",
    "\n",
    "        accuracies = tf.cast(accuracies, dtype=tf.float32)\n",
    "        mask = tf.cast(mask, dtype=tf.float32)\n",
    "        # numero medio di token non nulli azzeccati\n",
    "        return tf.reduce_sum(accuracies)/tf.reduce_sum(mask)\n",
    "\n",
    "    @tf.function()\n",
    "    def train_step(self, data):\n",
    "        x = data # Durante il training ho bisogno solo di un batch di sequenze\n",
    "        N = tf.shape(x)[0]\n",
    "        L = tf.shape(x)[1]\n",
    "\n",
    "        with tf.GradientTape() as tape:\n",
    "            y_hat = self(x, training=True)\n",
    "            loss = self.loss_function(x, y_hat)\n",
    "\n",
    "        gradients = tape.gradient(loss, self.trainable_variables)\n",
    "        gradients = [grad if grad is not None else tf.zeros_like(var) for var, grad in zip(self.trainable_variables, gradients)]\n",
    "        self.optimizer.apply_gradients(zip(gradients, self.trainable_variables))\n",
    "\n",
    "        self.loss_metric(loss)\n",
    "        self.accuracy_metric(self.accuracy_function(x, y_hat))\n",
    "        return {}\n",
    "    \n",
    "    @tf.function()\n",
    "    def evaluation_step(self, data):\n",
    "        y_hat = self(data)\n",
    "        return self.loss_function(data,y_hat), self.accuracy_function(data, y_hat)\n",
    "    \n",
    "    def train(self, x, epochs, batch_size, validation=None, shuffle=False, prev_history=None):\n",
    "        batch_size = min(x.shape[0], batch_size)\n",
    "        batches = x.shape[0]//batch_size\n",
    "        \n",
    "        history = []\n",
    "        if prev_history is not None:\n",
    "            history += prev_history\n",
    "            \n",
    "        if validation is not None:\n",
    "            history.append(\n",
    "                {'training_loss': [],\n",
    "                 'training_accuracy': [],\n",
    "                 'validation_loss': [],\n",
    "                 'validation_accuracy': []}\n",
    "            ) # new training session\n",
    "        else:\n",
    "            history.append(\n",
    "                {'training_loss': [],\n",
    "                 'training_accuracy': []}\n",
    "            ) # new training session\n",
    "        \n",
    "        for epoch in range(epochs):\n",
    "            self.loss_metric.reset_states()\n",
    "            self.accuracy_metric.reset_states()\n",
    "\n",
    "            if shuffle:\n",
    "                np.random.shuffle(x)\n",
    "\n",
    "            for i in range(0,x.shape[0],batch_size):\n",
    "                batch = x[i:i+batch_size]\n",
    "                self.train_step(batch)\n",
    "\n",
    "                print('\\rBatch {}/{} loss: {:.4f} accuracy: {:.4f}'.format(i//batch_size+1,\n",
    "                                                                    batches,\n",
    "                                                                    self.loss_metric.result(),\n",
    "                                                                    self.accuracy_metric.result()),\n",
    "                        end='',\n",
    "                        flush=True)\n",
    "            history[-1]['training_loss'].append(self.loss_metric.result())\n",
    "            history[-1]['training_accuracy'].append(self.accuracy_metric.result())\n",
    "            if validation is not None:\n",
    "                val_loss, val_acc = self.evaluation_step(validation)\n",
    "                history[-1]['validation_loss'].append(val_loss)\n",
    "                history[-1]['validation_accuracy'].append(val_acc)\n",
    "                print('\\rEpoch {}/{} train loss: {:.4f} accuracy: {:.4f}; validation loss: {:.4f} accuracy: {:.4f}'.format(\n",
    "                        epoch+1, epochs,\n",
    "                        self.loss_metric.result(),\n",
    "                        self.accuracy_metric.result(),\n",
    "                        val_loss,val_acc))\n",
    "            else:\n",
    "                print('\\rEpoch {}/{} loss: {:.4f} accuracy: {:.4f}'.format(epoch+1, epochs, self.loss_metric.result(), self.accuracy_metric.result()))\n",
    "        return history\n",
    "\n",
    "    def test(self, x, batch_size):\n",
    "        batch_size = min(x.shape[0], batch_size)\n",
    "        batches = x.shape[0]//batch_size\n",
    "\n",
    "        cumul_acc = 0\n",
    "        cumul_loss = 0\n",
    "        counter = 0\n",
    "        for i in range(0,x.shape[0],batch_size):\n",
    "            batch = x[i:i+batch_size]\n",
    "            loss, acc = self.evaluation_step(batch)\n",
    "            cumul_loss += loss\n",
    "            cumul_acc += acc\n",
    "            counter += 1\n",
    "        \n",
    "        return cumul_loss/counter, cumul_acc/counter\n",
    "    "
   ]
  },
  {
   "cell_type": "markdown",
   "metadata": {
    "id": "T1V2NufveKRJ"
   },
   "source": [
    "#### Unconditional GRU-GAN"
   ]
  },
  {
   "cell_type": "markdown",
   "metadata": {
    "id": "vkIA_ZcAeKRJ"
   },
   "source": [
    "##### Generator"
   ]
  },
  {
   "cell_type": "code",
   "execution_count": 47,
   "metadata": {
    "id": "Q9spEsaJeKRJ"
   },
   "outputs": [],
   "source": [
    "class GRUGenerator(tf.keras.layers.Layer):\n",
    "    \"\"\"\n",
    "    Questo generator prende in input un vettore di dimensione latent_dimension di rumore.\n",
    "    Restituisce una sequenza lunga L di note sottoforma di distribuzioni di probabilità discrete sul\n",
    "    vocabolario delle note.\n",
    "    \n",
    "    Possono essere configurati il numero di layer di GRU e il numero di unità per livello (uguale per ogni livello).\n",
    "    \"\"\"\n",
    "    def __init__(self, vocab_size, depth, height):\n",
    "        super(GRUGenerator, self).__init__()\n",
    "\n",
    "        assert depth > 0 and height > 0\n",
    "\n",
    "        self.grus = [tf.keras.layers.GRU(height, return_sequences=True) for i in range(depth)]\n",
    "        \n",
    "        self.final = tf.keras.layers.TimeDistributed(tf.keras.layers.Dense(vocab_size, activation='softmax'))\n",
    "        self.layernorm = tf.keras.layers.LayerNormalization(epsilon=1e-6)\n",
    "        self.vocab_size = vocab_size\n",
    "  \n",
    "    def build(self, input_shape):\n",
    "        return (input_shape[0], input_shape[1], self.vocab_size)\n",
    "\n",
    "    def call(self, x):\n",
    "        out = x\n",
    "        for gru in self.grus:\n",
    "            out = gru(out)\n",
    "        out = self.layernorm(out)\n",
    "        return self.final(out)\n"
   ]
  },
  {
   "cell_type": "code",
   "execution_count": 48,
   "metadata": {
    "id": "-YSHEe5BeKRK"
   },
   "outputs": [
    {
     "data": {
      "text/plain": [
       "TensorShape([256, 20, 92])"
      ]
     },
     "execution_count": 48,
     "metadata": {},
     "output_type": "execute_result"
    }
   ],
   "source": [
    "tmp_gen = GRUGenerator(vocab_size,2,512)\n",
    "tmp_rnd = tf.random.normal((256, 128))\n",
    "tmp_rnd = tf.repeat(tmp_rnd, 20, axis=0)\n",
    "tmp_rnd = tf.reshape(tmp_rnd, (256, 20, 128))\n",
    "tmp_gen(tmp_rnd).shape"
   ]
  },
  {
   "cell_type": "markdown",
   "metadata": {
    "id": "pMpEGftUeKRK"
   },
   "source": [
    "##### Discriminator"
   ]
  },
  {
   "cell_type": "code",
   "execution_count": 49,
   "metadata": {
    "id": "k87N3s1ReKRK"
   },
   "outputs": [],
   "source": [
    "class GRUDiscriminator(tf.keras.Model):\n",
    "    \"\"\"\n",
    "    Questo livello riceve una sequenza di note sottoforma di interi (token) e restituisce un singolo\n",
    "    valore di probabilità: p > 0.5 => la sequenza è scritta da Bach, p < 0.5 => la sequenza è falsa\n",
    "    \n",
    "    L'obiettivo sarà poi quello di avvicinarsi quanto più possibile al valore p=0.5\n",
    "    \"\"\"\n",
    "    def __init__(self, vocab_size, d, fc,depth, height, bidirectional=False):\n",
    "        super(GRUDiscriminator, self).__init__()\n",
    "\n",
    "        assert depth > 0 and height > 0\n",
    "\n",
    "        self.emb = tf.keras.layers.Embedding(vocab_size+1, d, mask_zero=True)\n",
    "        \n",
    "        if not bidirectional:\n",
    "            self.grus = [tf.keras.layers.GRU(height, return_sequences=True) for i in range(depth-1)]\n",
    "        else:\n",
    "            self.grus = [tf.keras.layers.Bidirectional(tf.keras.layers.GRU(height, return_sequences=True)) for i in range(depth-1)]\n",
    "        self.grus.append(tf.keras.layers.GRU(height))\n",
    "        \n",
    "        self.final = tf.keras.Sequential()\n",
    "        self.final.add(tf.keras.layers.Dense(fc))\n",
    "        self.final.add(tf.keras.layers.Dense(1, activation='sigmoid'))\n",
    "        self.layernorm = tf.keras.layers.LayerNormalization(epsilon=1e-6)\n",
    "        self.vocab_size = vocab_size\n",
    "  \n",
    "    def build(self, input_shape):\n",
    "        return (input_shape[0],)\n",
    "\n",
    "    def call(self, x):\n",
    "        out = self.emb(x) # (batch, L, d)\n",
    "        for gru in self.grus:\n",
    "            out = gru(out)\n",
    "        # ( batch, height)\n",
    "        out = self.layernorm(out) # (batch, height)\n",
    "        return tf.squeeze(self.final(out)) # (batch,) => 1 prediction for each sample\n"
   ]
  },
  {
   "cell_type": "code",
   "execution_count": 50,
   "metadata": {
    "id": "2Tr_D_h7eKRK"
   },
   "outputs": [
    {
     "data": {
      "text/plain": [
       "<tf.Tensor: shape=(2,), dtype=float32, numpy=array([0.7940051 , 0.62531585], dtype=float32)>"
      ]
     },
     "execution_count": 50,
     "metadata": {},
     "output_type": "execute_result"
    }
   ],
   "source": [
    "tmp_discr = GRUDiscriminator(vocab_size, 8, 512, 2, 512)\n",
    "tmp_discr(x[:2])"
   ]
  },
  {
   "cell_type": "markdown",
   "metadata": {
    "id": "JgQz7fE7eKRK"
   },
   "source": [
    "##### GRU-GAN"
   ]
  },
  {
   "cell_type": "code",
   "execution_count": 51,
   "metadata": {
    "id": "5-emn123eKRK"
   },
   "outputs": [],
   "source": [
    "class GRUGAN(tf.keras.Model):\n",
    "    def __init__(self, latent_dimension, vocab_size, d, fc, depth, height, bidirectional=False):\n",
    "        super(GRUGAN, self).__init__()\n",
    "\n",
    "        self.vocab_size = vocab_size\n",
    "        self.latent_dimension = latent_dimension\n",
    "        \n",
    "        self.generator = GRUGenerator(vocab_size, depth, height)\n",
    "        self.discriminator = GRUDiscriminator(vocab_size, d, fc,depth, height, bidirectional)\n",
    "\n",
    "        self.loss_measure = tf.keras.losses.SparseCategoricalCrossentropy(reduction='none')\n",
    "        \n",
    "        self.gen_loss_metric = tf.keras.metrics.Mean(name='train gen loss')\n",
    "        self.discr_acc_metric = tf.keras.metrics.Mean(name='train discr acc')\n",
    "        self.discr_loss_metric = tf.keras.metrics.Mean(name='train discr loss')\n",
    "        self.true_p_metric = tf.keras.metrics.Mean(name='train true prob')\n",
    "        self.fake_p_metric = tf.keras.metrics.Mean(name='train fake prob')\n",
    "\n",
    "    def call(self, x, return_sequence=False):\n",
    "        N = tf.shape(x)[0]\n",
    "        L = tf.shape(x)[1]\n",
    "        \n",
    "        noise = tf.random.normal((N, self.latent_dimension))\n",
    "        noise = tf.repeat(noise, L, axis=0)\n",
    "        noise = tf.reshape(noise, (N, L, -1))\n",
    "        \n",
    "        gen_out = self.generator(noise) # (N, L, vocab_size)\n",
    "        fake_seq = tf.argmax(gen_out, axis=-1) + 1 # (N, L)\n",
    "        \n",
    "        fake_p = self.discriminator(fake_seq) # (N,)\n",
    "        true_p = self.discriminator(x) # (N,)\n",
    "        \n",
    "        if return_sequence:\n",
    "            return fake_p, true_p, gen_out\n",
    "        else:\n",
    "            return fake_p, true_p\n",
    "\n",
    "    def loss_function(self, fake_p, true_p):\n",
    "        # (N, )\n",
    "        val1 = tf.clip_by_value(fake_p, 1e-10, 1e10)\n",
    "        gen_loss = tf.reduce_mean(-tf.math.log(val1)) # il generatore massimizza l'errore del discr\n",
    "        val21 = tf.clip_by_value(tf.ones_like(fake_p)-fake_p, 1e-10, 1e10)\n",
    "        val22 = tf.clip_by_value(true_p, 1e-10, 1e10)\n",
    "        discr_loss = tf.reduce_mean(-tf.math.log(val21) - tf.math.log(true_p)) # il discriminatore minimizza il proprio errore su entrambi\n",
    "        return gen_loss, discr_loss\n",
    "\n",
    "    def accuracy_function(self, fake_p, true_p):\n",
    "        good = tf.reduce_sum(tf.cast(tf.math.greater(true_p, 0.5), dtype=tf.float32))\n",
    "        good += tf.reduce_sum(tf.cast(tf.math.less(fake_p, 0.5),dtype=tf.float32))\n",
    "        return good/tf.cast(2*tf.shape(fake_p)[0], dtype=tf.float32)\n",
    "    \n",
    "    @tf.function()\n",
    "    def train_step(self, data, train_discr=True):\n",
    "        x = data # Durante il training ho bisogno solo di un batch di sequenze\n",
    "\n",
    "        with tf.GradientTape() as gen_tape, tf.GradientTape() as discr_tape:\n",
    "            fake_p, true_p = self(x)\n",
    "            gen_loss, discr_loss = self.loss_function(fake_p, true_p)\n",
    "\n",
    "        gen_gradients = gen_tape.gradient(gen_loss, self.generator.trainable_variables)\n",
    "        gen_gradients = [grad if grad is not None else tf.zeros_like(var) for var, grad in zip(self.generator.trainable_variables, gen_gradients)]\n",
    "        \n",
    "        discr_gradients = discr_tape.gradient(discr_loss, self.discriminator.trainable_variables)\n",
    "        discr_gradients = [grad if grad is not None else tf.zeros_like(var) for var, grad in zip(self.discriminator.trainable_variables, discr_gradients)]\n",
    "        \n",
    "        if train_discr is None:\n",
    "            self.discr_optimizer.apply_gradients(zip(discr_gradients, self.discriminator.trainable_variables))\n",
    "            self.gen_optimizer.apply_gradients(zip(gen_gradients, self.generator.trainable_variables))\n",
    "        elif train_discr:\n",
    "            self.discr_optimizer.apply_gradients(zip(discr_gradients, self.discriminator.trainable_variables))\n",
    "        elif not train_discr:\n",
    "            self.gen_optimizer.apply_gradients(zip(gen_gradients, self.generator.trainable_variables))\n",
    "\n",
    "        acc = self.accuracy_function(fake_p, true_p)\n",
    "        self.gen_loss_metric(gen_loss)\n",
    "        self.discr_loss_metric(discr_loss)\n",
    "        self.discr_acc_metric(acc)\n",
    "        self.true_p_metric(true_p)\n",
    "        self.fake_p_metric(fake_p)\n",
    "    \n",
    "    @tf.function()\n",
    "    def gen_pretrain_step(self, x):\n",
    "        \n",
    "        with tf.GradientTape() as tape:\n",
    "            _, __, fake_seq = self(x, True)\n",
    "            mask = tf.cast( tf.math.logical_not(tf.math.equal(x, 0)), dtype=fake_seq.dtype)\n",
    "            gen_loss = tf.reduce_sum(tf.clip_by_value(self.loss_measure(x,fake_seq),1e-9,1e10))*mask\n",
    "        \n",
    "        gen_gradients = tape.gradient(gen_loss, self.generator.trainable_variables)\n",
    "        gen_gradients = [grad if grad is not None else tf.zeros_like(var) for var, grad in zip(self.generator.trainable_variables, gen_gradients)]\n",
    "        \n",
    "        self.gen_optimizer.apply_gradients(zip(gen_gradients, self.generator.trainable_variables))\n",
    "        \n",
    "        self.gen_loss_metric(gen_loss)\n",
    "    \n",
    "    @tf.function()\n",
    "    def discr_pretrain_step(self, x):\n",
    "        \n",
    "        with tf.GradientTape() as tape:\n",
    "            fake_p, true_p = self(x)\n",
    "            _, discr_loss = self.loss_function(fake_p, true_p)\n",
    "        \n",
    "        discr_gradients = tape.gradient(discr_loss, self.discriminator.trainable_variables)\n",
    "        discr_gradients = [grad if grad is not None else tf.zeros_like(var) for var, grad in zip(self.discriminator.trainable_variables, discr_gradients)]\n",
    "        \n",
    "        self.discr_optimizer.apply_gradients(zip(discr_gradients, self.discriminator.trainable_variables))\n",
    "        \n",
    "        self.discr_loss_metric(discr_loss)\n",
    "    \n",
    "    def train(self, x, epochs, batch_size, g_rounds, d_rounds, shuffle=False, prev_history=None, pretraining=None):\n",
    "        batch_size = min(x.shape[0], batch_size)\n",
    "        batches = x.shape[0]//batch_size\n",
    "        \n",
    "        \n",
    "        if pretraining is not None:\n",
    "            # Pre-train generator\n",
    "            for epoch in range(pretraining):\n",
    "                self.gen_loss_metric.reset_states()\n",
    "                for i in range(0,x.shape[0],batch_size):\n",
    "                    batch = x[i:i+batch_size]\n",
    "                    self.gen_pretrain_step(batch)\n",
    "\n",
    "                    print('\\rGen Pretraining Batch {}/{} gen loss: {:.4f}'.format(i//batch_size+1,\n",
    "                                                                        batches,\n",
    "                                                                        self.gen_loss_metric.result()),\n",
    "                            end='',\n",
    "                            flush=True)\n",
    "\n",
    "                print('\\rGen Pretraining Epoch {}/{} gen loss: {:.4f}'.format(epoch+1, pretraining,\n",
    "                                                                               self.gen_loss_metric.result()))\n",
    "            # Pre-train discriminator\n",
    "            for epoch in range(pretraining):\n",
    "                self.discr_loss_metric.reset_states()\n",
    "                for i in range(0,x.shape[0],batch_size):\n",
    "                    batch = x[i:i+batch_size]\n",
    "                    self.discr_pretrain_step(batch)\n",
    "\n",
    "                    print('\\rDiscr Pretraining Batch {}/{} discr loss: {:.4f}'.format(i//batch_size+1,\n",
    "                                                                        batches,\n",
    "                                                                        self.discr_loss_metric.result()),\n",
    "                            end='',\n",
    "                            flush=True)\n",
    "\n",
    "                print('\\rDiscr Pretraining Epoch {}/{} discr loss: {:.4f}'.format(epoch+1, pretraining,\n",
    "                                                                               self.discr_loss_metric.result()))\n",
    "        \n",
    "        history = []\n",
    "        if prev_history is not None:\n",
    "            history += prev_history\n",
    "            \n",
    "        history.append(\n",
    "            {'gen_loss': [],\n",
    "             'discr_loss': [],\n",
    "             'true_p': [],\n",
    "             'fake_p': []}\n",
    "        ) # new training session\n",
    "        \n",
    "        gen_counter = 0\n",
    "        discr_counter = 0\n",
    "        train_discr = False\n",
    "        for epoch in range(epochs):\n",
    "            self.gen_loss_metric.reset_states()\n",
    "            self.discr_loss_metric.reset_states()\n",
    "            self.discr_acc_metric.reset_states()\n",
    "            self.true_p_metric.reset_states()\n",
    "            self.fake_p_metric.reset_states()\n",
    "\n",
    "            if shuffle:\n",
    "                np.random.shuffle(x)\n",
    "\n",
    "            if not train_discr and gen_counter == g_rounds:\n",
    "                train_discr = True\n",
    "                gen_counter = 0\n",
    "                discr_counter = 0\n",
    "            \n",
    "            if train_discr and discr_counter == d_rounds:\n",
    "                train_discr = False\n",
    "                discr_counter = 0\n",
    "                gen_counter = 0\n",
    "                \n",
    "            for i in range(0,x.shape[0],batch_size):\n",
    "                batch = x[i:i+batch_size]\n",
    "                discr_cond = train_discr and (self.discr_acc_metric.result()<0.8)\n",
    "                self.train_step(batch, train_discr=discr_cond)\n",
    "\n",
    "                print('\\rBatch {}/{} gen loss: {:.4f} discr loss: {:.4f} discr acc: {:.4f} true p: {:.4f} fake p: {:.4f}'.format(i//batch_size+1,\n",
    "                                                                    batches,\n",
    "                                                                    self.gen_loss_metric.result(),\n",
    "                                                                    self.discr_loss_metric.result(),\n",
    "                                                                    self.discr_acc_metric.result(),\n",
    "                                                                    self.true_p_metric.result(),\n",
    "                                                                    self.fake_p_metric.result()),\n",
    "                        end='',\n",
    "                        flush=True)\n",
    "                \n",
    "            history[-1]['gen_loss'].append(self.gen_loss_metric.result())\n",
    "            history[-1]['discr_loss'].append(self.discr_loss_metric.result())\n",
    "            history[-1]['true_p'].append(self.true_p_metric.result())\n",
    "            history[-1]['fake_p'].append(self.fake_p_metric.result())\n",
    "            \n",
    "            print('\\rEpoch {}/{} gen loss: {:.4f} discr loss: {:.4f} discr acc: {:.4f} true p: {:.4f} fake p: {:.4f}'.format(epoch+1, epochs,\n",
    "                                                                           self.gen_loss_metric.result(),\n",
    "                                                                           self.discr_loss_metric.result(),\n",
    "                                                                           self.discr_acc_metric.result(),\n",
    "                                                                           self.true_p_metric.result(),\n",
    "                                                                           self.fake_p_metric.result()))\n",
    "            \n",
    "            if train_discr:\n",
    "                discr_counter += 1\n",
    "            else:\n",
    "                gen_counter += 1\n",
    "            \n",
    "        return history\n"
   ]
  },
  {
   "cell_type": "code",
   "execution_count": 52,
   "metadata": {
    "id": "P7et9oRNeKRL"
   },
   "outputs": [
    {
     "data": {
      "text/plain": [
       "(<tf.Tensor: shape=(), dtype=float32, numpy=1.5094216>,\n",
       " <tf.Tensor: shape=(), dtype=float32, numpy=0.9779123>)"
      ]
     },
     "execution_count": 52,
     "metadata": {},
     "output_type": "execute_result"
    }
   ],
   "source": [
    "# latent_dimension, vocab_size, d, fc, depth, height\n",
    "tmp_grugan = GRUGAN(10, vocab_size, 8, 512, 2, 512)\n",
    "tmp_grugan.compute_output_shape(x[:2].shape)\n",
    "tmp_fakep, tmp_truep = tmp_grugan(x[:2])\n",
    "tmp_grugan.loss_function(tmp_fakep, tmp_truep)"
   ]
  },
  {
   "cell_type": "markdown",
   "metadata": {
    "id": "EYj1Rq5XwkhN"
   },
   "source": [
    "### Training"
   ]
  },
  {
   "cell_type": "markdown",
   "metadata": {
    "id": "KRNxeyaXbN3G"
   },
   "source": [
    "#### Scheduling del learning rate e optimizer personalizzati"
   ]
  },
  {
   "cell_type": "code",
   "execution_count": 53,
   "metadata": {
    "id": "iNn6EBBcS2Xv"
   },
   "outputs": [],
   "source": [
    "class CustomSchedule(tf.keras.optimizers.schedules.LearningRateSchedule):\n",
    "    def __init__(self, d_model, warmup_steps=4000):\n",
    "        super(CustomSchedule, self).__init__()\n",
    "\n",
    "        self.d_model = d_model\n",
    "        self.d_model = tf.cast(self.d_model, tf.float32)\n",
    "\n",
    "        self.warmup_steps = warmup_steps\n",
    "\n",
    "    def __call__(self, step):\n",
    "        arg1 = tf.math.rsqrt(step)\n",
    "        arg2 = step * (self.warmup_steps ** -1.5)\n",
    "\n",
    "        return tf.math.rsqrt(self.d_model) * tf.math.minimum(arg1, arg2)"
   ]
  },
  {
   "cell_type": "code",
   "execution_count": 54,
   "metadata": {
    "id": "9xLcHmARS4YC"
   },
   "outputs": [
    {
     "data": {
      "text/plain": [
       "Text(0.5, 0, 'Train Step')"
      ]
     },
     "execution_count": 54,
     "metadata": {},
     "output_type": "execute_result"
    },
    {
     "data": {
      "image/png": "[encoded data removed]",
      "text/plain": [
       "<Figure size 432x288 with 1 Axes>"
      ]
     },
     "metadata": {
      "image/png": {
       "height": 272,
       "width": 376
      },
      "needs_background": "light"
     },
     "output_type": "display_data"
    }
   ],
   "source": [
    "temp_learning_rate_schedule = CustomSchedule(1e5)\n",
    "\n",
    "plt.plot(temp_learning_rate_schedule(tf.range(40000, dtype=tf.float32)))\n",
    "plt.ylabel(\"Learning Rate\")\n",
    "plt.xlabel(\"Train Step\")"
   ]
  },
  {
   "cell_type": "markdown",
   "metadata": {
    "id": "0nL9LMVRevca"
   },
   "source": [
    "#### Training"
   ]
  },
  {
   "cell_type": "code",
   "execution_count": 55,
   "metadata": {
    "id": "jIpYbFDOw66d"
   },
   "outputs": [
    {
     "data": {
      "text/plain": [
       "TensorShape([1, 20, 92])"
      ]
     },
     "execution_count": 55,
     "metadata": {},
     "output_type": "execute_result"
    }
   ],
   "source": [
    "autoenc=GRUVAutoencoder(vocab_size, 8, 64, 512, 2, 512, 2)#TransformerAE(20,128,8,2048,vocab_size,L)#GRUVAutoencoder(vocab_size, 128, 128, 512, 2, 512, 2)#Transformer(5,512,8,512,vocab_size,256) #\n",
    "autoenc.compute_output_shape(x[:1].shape)"
   ]
  },
  {
   "cell_type": "code",
   "execution_count": 56,
   "metadata": {
    "id": "4vWdmje4xU0Z"
   },
   "outputs": [],
   "source": [
    "learning_rate = CustomSchedule(1e3)\n",
    "optimizer = tf.keras.optimizers.Adam(1e-5, beta_1=0.9, beta_2=0.98, epsilon=1e-9)"
   ]
  },
  {
   "cell_type": "code",
   "execution_count": 57,
   "metadata": {
    "id": "OiwX05mwxSxd"
   },
   "outputs": [],
   "source": [
    "autoenc.optimizer = optimizer"
   ]
  },
  {
   "cell_type": "code",
   "execution_count": null,
   "metadata": {
    "id": "6Pirc-CnRTJF"
   },
   "outputs": [],
   "source": [
    "autoenc.load_weights(join(base_path, 'Experiments/Experiment21/Weights'))"
   ]
  },
  {
   "cell_type": "code",
   "execution_count": null,
   "metadata": {
    "id": "oBgvKlyXeKRM"
   },
   "outputs": [],
   "source": [
    "history = load_obj(join(base_path, 'Experiments/Experiment21/history.pkl'))"
   ]
  },
  {
   "cell_type": "markdown",
   "metadata": {
    "id": "Nzsb-kofxgNB"
   },
   "source": [
    "history = autoenc.train(x, batch_size=256, epochs=100, validation=x_valid, prev_history=history)"
   ]
  },
  {
   "cell_type": "code",
   "execution_count": null,
   "metadata": {
    "id": "3rILG9QceKRN"
   },
   "outputs": [],
   "source": [
    "save_obj(history, join(base_path, join('Experiments/Experiment21', 'history.pkl')))"
   ]
  },
  {
   "cell_type": "code",
   "execution_count": null,
   "metadata": {
    "id": "nKHQMyv6BJ-N"
   },
   "outputs": [],
   "source": [
    "autoenc.save_weights(join(base_path, 'Experiments/Experiment21/Weights'))"
   ]
  },
  {
   "cell_type": "markdown",
   "metadata": {
    "id": "r9hMIj0Wk_Uv"
   },
   "source": [
    "### Testing"
   ]
  },
  {
   "cell_type": "code",
   "execution_count": 58,
   "metadata": {
    "id": "9BMwQ4KWk_Uv"
   },
   "outputs": [
    {
     "data": {
      "text/plain": [
       "<tensorflow.python.training.tracking.util.CheckpointLoadStatus at 0x27e50d62208>"
      ]
     },
     "execution_count": 58,
     "metadata": {},
     "output_type": "execute_result"
    }
   ],
   "source": [
    "autoenc=GRUVAutoencoder(vocab_size, 8, 128, 512, 2, 512, 2)\n",
    "autoenc.load_weights(join(base_path, 'Experiments/Experiment13/Weights'))"
   ]
  },
  {
   "cell_type": "code",
   "execution_count": 59,
   "metadata": {
    "id": "yBCUvrM6k_Uv"
   },
   "outputs": [
    {
     "data": {
      "text/plain": [
       "(<tf.Tensor: shape=(), dtype=float32, numpy=0.7012589>,\n",
       " <tf.Tensor: shape=(), dtype=float32, numpy=0.9469237>)"
      ]
     },
     "execution_count": 59,
     "metadata": {},
     "output_type": "execute_result"
    }
   ],
   "source": [
    "autoenc.test(x_test, 256)"
   ]
  },
  {
   "cell_type": "markdown",
   "metadata": {
    "id": "YKfgi00bk_Uv"
   },
   "source": [
    "### Visualizza training di un esperimento"
   ]
  },
  {
   "cell_type": "code",
   "execution_count": 60,
   "metadata": {
    "id": "MCwa91dmk_Uv"
   },
   "outputs": [],
   "source": [
    "experiment_number = 13\n",
    "history = load_obj(join(base_path, 'Experiments/Experiment{}/history.pkl'.format(experiment_number)))"
   ]
  },
  {
   "cell_type": "code",
   "execution_count": 61,
   "metadata": {
    "id": "iEbtnK4Ck_Uw"
   },
   "outputs": [
    {
     "data": {
      "image/png": "[encoded data removed]",
      "text/plain": [
       "<Figure size 432x288 with 1 Axes>"
      ]
     },
     "metadata": {
      "image/png": {
       "height": 277,
       "width": 372
      },
      "needs_background": "light"
     },
     "output_type": "display_data"
    }
   ],
   "source": [
    "hh = merge_history(history)\n",
    "plt.plot(np.arange(len(hh['training_loss'])), [ten.numpy() for ten in hh['training_loss']], '-b',\n",
    "         np.arange(len(hh['validation_loss'])), [ten.numpy() for ten in hh['validation_loss']], '-r')\n",
    "plt.grid(True)\n",
    "plt.xlabel('epochs')\n",
    "plt.title('Loss during training of Plain AE')\n",
    "plt.legend(['training', 'validation'])\n",
    "plt.show()"
   ]
  },
  {
   "cell_type": "code",
   "execution_count": 62,
   "metadata": {
    "id": "2Qcae-fIk_Uw"
   },
   "outputs": [
    {
     "data": {
      "image/png": "[encoded data removed]",
      "text/plain": [
       "<Figure size 432x288 with 1 Axes>"
      ]
     },
     "metadata": {
      "image/png": {
       "height": 263,
       "width": 372
      },
      "needs_background": "light"
     },
     "output_type": "display_data"
    }
   ],
   "source": [
    "hh = merge_history(history)\n",
    "plt.plot(np.arange(len(hh['training_accuracy'])), [ten.numpy() for ten in hh['training_accuracy']], '-b',\n",
    "         np.arange(len(hh['validation_accuracy'])), [ten.numpy() for ten in hh['validation_accuracy']], '-r')\n",
    "plt.grid(True)\n",
    "plt.title('Accuracy during training')\n",
    "plt.legend(['training','validation'])\n",
    "plt.show()"
   ]
  },
  {
   "cell_type": "markdown",
   "metadata": {
    "id": "UWYc_j3HlBbU"
   },
   "source": [
    "### Generazione contenuto"
   ]
  },
  {
   "cell_type": "code",
   "execution_count": 63,
   "metadata": {
    "id": "LPAv7S22k_Uw"
   },
   "outputs": [
    {
     "data": {
      "text/plain": [
       "<tensorflow.python.training.tracking.util.CheckpointLoadStatus at 0x27e4fc65348>"
      ]
     },
     "execution_count": 63,
     "metadata": {},
     "output_type": "execute_result"
    }
   ],
   "source": [
    "model=GRUVAutoencoder(vocab_size, 8, 128, 512, 2, 512, 2)\n",
    "model.load_weights(join(base_path, 'Experiments/Experiment13/Weights'))"
   ]
  },
  {
   "cell_type": "code",
   "execution_count": 64,
   "metadata": {
    "id": "RKcDRWnPDQdV"
   },
   "outputs": [],
   "source": [
    "def seq2stream(seq, min_token):\n",
    "    \"\"\"\n",
    "    Input:    seq     una sequenza di token numerici, minore token valido == 1\n",
    "         min_token  il valore minimo del token MIDI di uscita\n",
    "    Output: un oggetto stream dalla libreria music21 che consente il plot e\n",
    "          la trasformazione in file .midi\n",
    "    \"\"\"\n",
    "    sst = m21.stream.Stream()\n",
    "    tokens = np.copy(seq[np.logical_not(np.equal(seq, 0))])\n",
    "    tokens += min_token-1\n",
    "    for i in range(len(tokens)):\n",
    "        pitch = m21.pitch.Pitch()\n",
    "        pitch.midi = tokens[i]\n",
    "        note = m21.note.Note()\n",
    "        note.pitch = pitch\n",
    "        note.duration = m21.duration.Duration()\n",
    "        note.duration.quarterLength = 1\n",
    "        sst.append(note)\n",
    "        note.offset = i\n",
    "  \n",
    "    return sst"
   ]
  },
  {
   "cell_type": "markdown",
   "metadata": {
    "id": "2Ncbt0o3eKSb"
   },
   "source": [
    "Test di generazione di un pezzo"
   ]
  },
  {
   "cell_type": "code",
   "execution_count": 65,
   "metadata": {
    "id": "s_aY6I3JeKSb"
   },
   "outputs": [],
   "source": [
    "z = tf.random.normal((1,128))"
   ]
  },
  {
   "cell_type": "code",
   "execution_count": 66,
   "metadata": {
    "id": "7z8hPg36k_Ux"
   },
   "outputs": [],
   "source": [
    "z_rep = tf.reshape( tf.repeat( z , 80,axis=0 ) , (1,80,128))"
   ]
  },
  {
   "cell_type": "code",
   "execution_count": 67,
   "metadata": {
    "id": "YQBLzAoUk_Ux",
    "scrolled": false
   },
   "outputs": [],
   "source": [
    "sample = tf.squeeze(tf.argmax(model.decoder(z_rep),axis=-1)).numpy()+1"
   ]
  },
  {
   "cell_type": "code",
   "execution_count": 68,
   "metadata": {
    "id": "ShHYCI1BeKSb"
   },
   "outputs": [
    {
     "data": {
      "image/png": "[encoded data removed]",
      "text/plain": [
       "<IPython.core.display.Image object>"
      ]
     },
     "metadata": {
      "image/png": {
       "height": 324,
       "width": 753
      }
     },
     "output_type": "display_data"
    }
   ],
   "source": [
    "if colab:\n",
    "    seq2stream(sample, min_token).plot()\n",
    "else:\n",
    "    seq2stream(sample, min_token).show()"
   ]
  },
  {
   "cell_type": "code",
   "execution_count": 69,
   "metadata": {
    "id": "mh-2Uo54eKSb",
    "scrolled": true
   },
   "outputs": [
    {
     "data": {
      "text/html": [
       "\n",
       "                <div id='midiPlayerDiv4107'></div>\n",
       "                <link rel=\"stylesheet\" href=\"//cuthbertLab.github.io/music21j/css/m21.css\"\n",
       "                    type=\"text/css\" />\n",
       "                <script>\n",
       "                require.config({\n",
       "                    paths: {'music21': '//cuthbertLab.github.io/music21j/src/music21'}\n",
       "                });\n",
       "                require(['music21'], function() {\n",
       "                               mp = new music21.miditools.MidiPlayer();\n",
       "                               mp.addPlayer('#midiPlayerDiv4107');\n",
       "                               mp.base64Load('data:audio/midi;base64,TVRoZAAAAAYAAQABBABNVHJrAAAC3QD/AwAA4ABAAJBYWogAgFgAAJBRWogAgFEAAJBPWogAgE8AAJBTWogAgFMAAJBRWogAgFEAAJBRWogAgFEAAJBPWogAgE8AAJBSWogAgFIAAJBPWogAgE8AAJBNWogAgE0AAJBNWogAgE0AAJBMWogAgEwAAJBQWogAgFAAAJBNWogAgE0AAJBRWogAgFEAAJBRWogAgFEAAJBRWogAgFEAAJBRWogAgFEAAJBRWogAgFEAAJBPWogAgE8AAJBTWogAgFMAAJBYWogAgFgAAJBRWogAgFEAAJBRWogAgFEAAJBRWogAgFEAAJBRWogAgFEAAJBRWogAgFEAAJBRWogAgFEAAJBRWogAgFEAAJBRWogAgFEAAJBRWogAgFEAAJBRWogAgFEAAJBRWogAgFEAAJBNWogAgE0AAJBNWogAgE0AAJBNWogAgE0AAJBNWogAgE0AAJBNWogAgE0AAJBQWogAgFAAAJBQWogAgFAAAJBNWogAgE0AAJBRWogAgFEAAJBRWogAgFEAAJBMWogAgEwAAJBKWogAgEoAAJBKWogAgEoAAJBKWogAgEoAAJBKWogAgEoAAJBPWogAgE8AAJBRWogAgFEAAJBRWogAgFEAAJBRWogAgFEAAJBRWogAgFEAAJBRWogAgFEAAJBNWogAgE0AAJBNWogAgE0AAJBNWogAgE0AAJBNWogAgE0AAJBNWogAgE0AAJBQWogAgFAAAJBQWogAgFAAAJBSWogAgFIAAJBNWogAgE0AAJBNWogAgE0AAJBRWogAgFEAAJBRWogAgFEAAJBKWogAgEoAAJBKWogAgEoAAJBKWogAgEoAAJBPWogAgE8AAJBPWogAgE8AAJBPWogAgE8AAJBRWogAgFEAAJBRWogAgFEAAJBRWogAgFEAAJBRWogAgFEAAJBRWogAgFEAAJBNWogAgE0AAJBNWogAgE0AAJBNWogAgE0AiAD/LwA=');\n",
       "                        });\n",
       "                </script>"
      ],
      "text/plain": [
       "<IPython.core.display.HTML object>"
      ]
     },
     "metadata": {},
     "output_type": "display_data"
    }
   ],
   "source": [
    "if not colab:\n",
    "    seq2stream(sample, min_token).show('midi')"
   ]
  },
  {
   "cell_type": "markdown",
   "metadata": {
    "id": "xLGiB4paeKSc"
   },
   "source": [
    "Test di ricostruzione pezzo"
   ]
  },
  {
   "cell_type": "code",
   "execution_count": 70,
   "metadata": {
    "id": "k3N4ek48eKSc"
   },
   "outputs": [],
   "source": [
    "rint = np.random.randint(x_test.shape[0])\n",
    "reconstr = tf.argmax(tf.squeeze(autoenc(x_test[rint:rint+1])),axis=-1).numpy()+1"
   ]
  },
  {
   "cell_type": "code",
   "execution_count": 71,
   "metadata": {
    "id": "L79xhukUeKSc"
   },
   "outputs": [
    {
     "data": {
      "image/png": "[encoded data removed]",
      "text/plain": [
       "<IPython.core.display.Image object>"
      ]
     },
     "metadata": {
      "image/png": {
       "height": 48,
       "width": 748
      }
     },
     "output_type": "display_data"
    }
   ],
   "source": [
    "if colab:\n",
    "    seq2stream(x_test[rint], min_token).plot()\n",
    "else:\n",
    "    seq2stream(x_test[rint], min_token).show()"
   ]
  },
  {
   "cell_type": "code",
   "execution_count": 72,
   "metadata": {
    "id": "J07Ghzx-eKSc"
   },
   "outputs": [
    {
     "data": {
      "image/png": "[encoded data removed]",
      "text/plain": [
       "<IPython.core.display.Image object>"
      ]
     },
     "metadata": {
      "image/png": {
       "height": 48,
       "width": 748
      }
     },
     "output_type": "display_data"
    }
   ],
   "source": [
    "if colab:\n",
    "    seq2stream(reconstr, min_token).plot()\n",
    "else:\n",
    "    seq2stream(reconstr, min_token).show()"
   ]
  },
  {
   "cell_type": "code",
   "execution_count": 73,
   "metadata": {
    "id": "D3-d4thSeKSc"
   },
   "outputs": [
    {
     "data": {
      "text/html": [
       "\n",
       "                <div id='midiPlayerDiv5792'></div>\n",
       "                <link rel=\"stylesheet\" href=\"//cuthbertLab.github.io/music21j/css/m21.css\"\n",
       "                    type=\"text/css\" />\n",
       "                <script>\n",
       "                require.config({\n",
       "                    paths: {'music21': '//cuthbertLab.github.io/music21j/src/music21'}\n",
       "                });\n",
       "                require(['music21'], function() {\n",
       "                               mp = new music21.miditools.MidiPlayer();\n",
       "                               mp.addPlayer('#midiPlayerDiv5792');\n",
       "                               mp.base64Load('data:audio/midi;base64,TVRoZAAAAAYAAQABBABNVHJrAAAAwQD/AwAA4ABAAJAyWogAgDIAAJArWogAgCsAAJAtWogAgC0AAJAmWogAgCYAAJAmWogAgCYAAJAyWogAgDIAAJAyWogAgDIAAJAuWogAgC4AAJArWogAgCsAAJAyWogAgDIAAJA0WogAgDQAAJA1WogAgDUAAJA1WogAgDUAAJAyWogAgDIAAJA0WogAgDQAAJA2WogAgDYAAJA4WogAgDgAAJA5WogAgDkAAJA0WogAgDQAAJAtWogAgC0AiAD/LwA=');\n",
       "                        });\n",
       "                </script>"
      ],
      "text/plain": [
       "<IPython.core.display.HTML object>"
      ]
     },
     "metadata": {},
     "output_type": "display_data"
    }
   ],
   "source": [
    "if not colab:\n",
    "    seq2stream(x_test[rint], min_token).show('midi')"
   ]
  },
  {
   "cell_type": "code",
   "execution_count": 74,
   "metadata": {
    "id": "R6gu-IUmeKSc"
   },
   "outputs": [
    {
     "data": {
      "text/html": [
       "\n",
       "                <div id='midiPlayerDiv5933'></div>\n",
       "                <link rel=\"stylesheet\" href=\"//cuthbertLab.github.io/music21j/css/m21.css\"\n",
       "                    type=\"text/css\" />\n",
       "                <script>\n",
       "                require.config({\n",
       "                    paths: {'music21': '//cuthbertLab.github.io/music21j/src/music21'}\n",
       "                });\n",
       "                require(['music21'], function() {\n",
       "                               mp = new music21.miditools.MidiPlayer();\n",
       "                               mp.addPlayer('#midiPlayerDiv5933');\n",
       "                               mp.base64Load('data:audio/midi;base64,TVRoZAAAAAYAAQABBABNVHJrAAAAwQD/AwAA4ABAAJAyWogAgDIAAJArWogAgCsAAJAtWogAgC0AAJAmWogAgCYAAJAmWogAgCYAAJAyWogAgDIAAJAyWogAgDIAAJAuWogAgC4AAJArWogAgCsAAJAyWogAgDIAAJA0WogAgDQAAJA1WogAgDUAAJA1WogAgDUAAJAyWogAgDIAAJA0WogAgDQAAJA2WogAgDYAAJA4WogAgDgAAJA5WogAgDkAAJA0WogAgDQAAJAtWogAgC0AiAD/LwA=');\n",
       "                        });\n",
       "                </script>"
      ],
      "text/plain": [
       "<IPython.core.display.HTML object>"
      ]
     },
     "metadata": {},
     "output_type": "display_data"
    }
   ],
   "source": [
    "if not colab:\n",
    "    seq2stream(reconstr, min_token).show('midi')"
   ]
  },
  {
   "cell_type": "markdown",
   "metadata": {
    "id": "4lpudNI8eKSd"
   },
   "source": [
    "Test di interpolazione progressiva tra pezzi di Bach nello spazio latente"
   ]
  },
  {
   "cell_type": "code",
   "execution_count": 75,
   "metadata": {
    "id": "V6YINjwWPJuj"
   },
   "outputs": [],
   "source": [
    "rint1 = np.random.randint(len(x_test))\n",
    "rint2 = np.random.randint(len(x_test))"
   ]
  },
  {
   "cell_type": "code",
   "execution_count": 76,
   "metadata": {
    "id": "Y4eaI5QWeKSd"
   },
   "outputs": [],
   "source": [
    "z1 = model.encoder(x_test[rint1:rint1+1])\n",
    "z2 = model.encoder(x_test[rint2:rint2+1])\n",
    "z20 = z1*0.8+z2*0.2\n",
    "z40 = z1*0.6+z2*0.4\n",
    "z60 = z1*0.4+z2*0.6\n",
    "z80 = z1*0.2+z2*0.8"
   ]
  },
  {
   "cell_type": "code",
   "execution_count": 77,
   "metadata": {
    "id": "Acqe7udvPOhb"
   },
   "outputs": [],
   "source": [
    "out20 = tf.squeeze(tf.argmax(model.decoder(tf.reshape( tf.repeat( z20 , 20,axis=0 ) , (1,20,128))),axis=-1)).numpy()+1\n",
    "out40 = tf.squeeze(tf.argmax(model.decoder(tf.reshape( tf.repeat( z40 , 20,axis=0 ) , (1,20,128))),axis=-1)).numpy()+1\n",
    "out60 = tf.squeeze(tf.argmax(model.decoder(tf.reshape( tf.repeat( z60 , 20,axis=0 ) , (1,20,128))),axis=-1)).numpy()+1\n",
    "out80 = tf.squeeze(tf.argmax(model.decoder(tf.reshape( tf.repeat( z80 , 20,axis=0 ) , (1,20,128))),axis=-1)).numpy()+1"
   ]
  },
  {
   "cell_type": "code",
   "execution_count": 78,
   "metadata": {
    "id": "O-_OH_oFOtOK"
   },
   "outputs": [
    {
     "data": {
      "image/png": "[encoded data removed]",
      "text/plain": [
       "<IPython.core.display.Image object>"
      ]
     },
     "metadata": {
      "image/png": {
       "height": 49,
       "width": 748
      }
     },
     "output_type": "display_data"
    }
   ],
   "source": [
    "if colab:\n",
    "    seq2stream(x_test[rint1], min_token).plot()\n",
    "else:\n",
    "    seq2stream(x_test[rint1], min_token).show()"
   ]
  },
  {
   "cell_type": "code",
   "execution_count": 79,
   "metadata": {
    "id": "6yoAnKKeeKSe"
   },
   "outputs": [
    {
     "data": {
      "image/png": "[encoded data removed]",
      "text/plain": [
       "<IPython.core.display.Image object>"
      ]
     },
     "metadata": {
      "image/png": {
       "height": 49,
       "width": 748
      }
     },
     "output_type": "display_data"
    }
   ],
   "source": [
    "if colab:\n",
    "    seq2stream(out20, min_token).plot()\n",
    "else:\n",
    "    seq2stream(out20, min_token).show()"
   ]
  },
  {
   "cell_type": "code",
   "execution_count": 80,
   "metadata": {
    "id": "AKIG9UFBk_Uz"
   },
   "outputs": [
    {
     "data": {
      "image/png": "[encoded data removed]",
      "text/plain": [
       "<IPython.core.display.Image object>"
      ]
     },
     "metadata": {
      "image/png": {
       "height": 49,
       "width": 748
      }
     },
     "output_type": "display_data"
    }
   ],
   "source": [
    "if colab:\n",
    "    seq2stream(out40, min_token).plot()\n",
    "else:\n",
    "    seq2stream(out40, min_token).show()"
   ]
  },
  {
   "cell_type": "code",
   "execution_count": 81,
   "metadata": {
    "id": "iCiioksmk_Uz"
   },
   "outputs": [
    {
     "data": {
      "image/png": "[encoded data removed]",
      "text/plain": [
       "<IPython.core.display.Image object>"
      ]
     },
     "metadata": {
      "image/png": {
       "height": 74,
       "width": 748
      }
     },
     "output_type": "display_data"
    }
   ],
   "source": [
    "if colab:\n",
    "    seq2stream(out60, min_token).plot()\n",
    "else:\n",
    "    seq2stream(out60, min_token).show()"
   ]
  },
  {
   "cell_type": "code",
   "execution_count": 82,
   "metadata": {
    "id": "RNzAdgUOk_Uz"
   },
   "outputs": [
    {
     "data": {
      "image/png": "[encoded data removed]",
      "text/plain": [
       "<IPython.core.display.Image object>"
      ]
     },
     "metadata": {
      "image/png": {
       "height": 63,
       "width": 748
      }
     },
     "output_type": "display_data"
    }
   ],
   "source": [
    "if colab:\n",
    "    seq2stream(out80, min_token).plot()\n",
    "else:\n",
    "    seq2stream(out80, min_token).show()"
   ]
  },
  {
   "cell_type": "code",
   "execution_count": 83,
   "metadata": {
    "id": "GfU_i5kyeKSe"
   },
   "outputs": [
    {
     "data": {
      "image/png": "[encoded data removed]",
      "text/plain": [
       "<IPython.core.display.Image object>"
      ]
     },
     "metadata": {
      "image/png": {
       "height": 53,
       "width": 748
      }
     },
     "output_type": "display_data"
    }
   ],
   "source": [
    "if colab:\n",
    "    seq2stream(x_test[rint2], min_token).plot()\n",
    "else:\n",
    "    seq2stream(x_test[rint2], min_token).show()"
   ]
  },
  {
   "cell_type": "markdown",
   "metadata": {
    "id": "ACV-4g_M5EB3"
   },
   "source": [
    "### Visualizzazione dello spazio latente\n",
    "\n",
    "è possibile sfruttare la pca per trovare i 2 o 3 assi con più varianza tra i vari encoding dei pezzi nel dataset"
   ]
  },
  {
   "cell_type": "code",
   "execution_count": 84,
   "metadata": {
    "id": "QY-gzfx35Db5"
   },
   "outputs": [],
   "source": [
    "pca = PCA(n_components=2) # Per grafici 2D"
   ]
  },
  {
   "cell_type": "code",
   "execution_count": 85,
   "metadata": {
    "id": "1HlizKhe5Sj9"
   },
   "outputs": [],
   "source": [
    "encoded_x = model.encoder(x_test)"
   ]
  },
  {
   "cell_type": "code",
   "execution_count": 86,
   "metadata": {
    "id": "F_oZP2CD5Xwt"
   },
   "outputs": [],
   "source": [
    "encoded2 = pca.fit_transform(encoded_x)"
   ]
  },
  {
   "cell_type": "code",
   "execution_count": 87,
   "metadata": {
    "id": "yeFHF-wN6Imc"
   },
   "outputs": [
    {
     "data": {
      "image/png": "[encoded data removed]",
      "text/plain": [
       "<Figure size 432x288 with 1 Axes>"
      ]
     },
     "metadata": {
      "image/png": {
       "height": 248,
       "width": 370
      },
      "needs_background": "light"
     },
     "output_type": "display_data"
    }
   ],
   "source": [
    "plt.scatter(encoded2[:,0], encoded2[:,1])\n",
    "plt.grid(True)\n",
    "plt.show()"
   ]
  }
 ],
 "metadata": {
  "colab": {
   "collapsed_sections": [
    "N7YO565SjJt5",
    "Ori896NChtPw",
    "SDwmIqzPsSXt",
    "H02OMat8oErr",
    "TdfkM5J3oIy0",
    "ip3gye1Hrzpv",
    "yMaSo9DMaS7Z",
    "fhYRukEHaiSq",
    "OPWzjv80dWFH",
    "ZUiQ_eoLeu6k",
    "IvfSKkc7fBTj",
    "PfchoKZbxFqh",
    "c64BY5wjKzCx",
    "BDXPS6QVOIoK",
    "cu_s2WhmPT1Q",
    "rd7SL4LVQGps",
    "yk2mNuH5RtQV",
    "EUBfI_m7Rvyi",
    "i6uhD_dNVyrR",
    "KRNxeyaXbN3G"
   ],
   "name": "MusicNN_(1).ipynb",
   "provenance": []
  },
  "kernelspec": {
   "display_name": "Python 3",
   "language": "python",
   "name": "python3"
  },
  "language_info": {
   "codemirror_mode": {
    "name": "ipython",
    "version": 3
   },
   "file_extension": ".py",
   "mimetype": "text/x-python",
   "name": "python",
   "nbconvert_exporter": "python",
   "pygments_lexer": "ipython3",
   "version": "3.7.9"
  }
 },
 "nbformat": 4,
 "nbformat_minor": 1
}
